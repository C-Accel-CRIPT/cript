{
 "cells": [
  {
   "cell_type": "markdown",
   "metadata": {},
   "source": [
    "# Summary\n",
    "This tutorial covers a sample workflow for adding experimental data to <a href=\"https://criptapp.org\" target=\"_blank\">CRIPT</a>, which includes creating `Project`, `Collection`, `Experiment`, `Process`, `Material`, `File`, and `Data` nodes, as well as how to add `Ingredients` and `Conditions` to a `Process` node. Steps should be done sequentially, as some steps rely on the completion of previous steps.\n",
    "\n",
    "## What is a node?\n",
    "A *node* is simply a CRIPT object (e.g., `Project`, `Experiment`) in the graph-based data model. Details on how to create, modify, and save different type of nodes are given in the following sections."
   ]
  },
  {
   "cell_type": "markdown",
   "metadata": {},
   "source": [
    "# Connect to CRIPT\n",
    "\n",
    "To connect to <a href=\"https://criptapp.org\" target=\"_blank\">CRIPT</a>, you must enter a `host` and an `API Token`. For most users, `host` will be `criptapp.org`.\n",
    "\n",
    "An API token tells CRIPT who you are and ensures that you have permission to view and upload certain types of data.\n",
    "Your API Token can be found in the CRIPT application <a href=\"https://criptapp.org/security/\" target=\"_blank\">security settings</a>.\n",
    "For additional details, please refer to <a href=\"http://127.0.0.1:8000/tutorials/api_token/\" target=\"_blank\">Getting an API Token</a>."
   ]
  },
  {
   "cell_type": "code",
   "execution_count": 1,
   "metadata": {},
   "outputs": [],
   "source": [
    "import cript\n",
    "import os"
   ]
  },
  {
   "cell_type": "code",
   "execution_count": 2,
   "metadata": {},
   "outputs": [],
   "source": [
    "host = \"https://criptapp.org/\"\n",
    "token = os.environ.get(\"CRIPT_API_KEY\")"
   ]
  },
  {
   "cell_type": "code",
   "execution_count": 3,
   "metadata": {},
   "outputs": [
    {
     "data": {
      "text/plain": [
       "Connected to https://criptapp.org/api"
      ]
     },
     "execution_count": 3,
     "metadata": {},
     "output_type": "execute_result"
    }
   ],
   "source": [
    "cript.API(host, token)"
   ]
  },
  {
   "cell_type": "markdown",
   "metadata": {},
   "source": [
    "# Create a <a href=\"http://127.0.0.1:8000/nodes/project/\" target=\"_blank\">`Project`</a> node\n",
    "\n",
    "All data uploaded to CRIPT must be associated with a <a href=\"http://127.0.0.1:8000/nodes/project/\" target=\"_blank\">`Project`</a> node. A <a href=\"http://127.0.0.1:8000/nodes/project/\" target=\"_blank\">`Project`</a> can be thought of as a folder that contains <a href=\"http://127.0.0.1:8000/nodes/collection/\" target=\"_blank\">`Collections`</a> and <a href=\"http://127.0.0.1:8000/nodes/material/\" target=\"_blank\">`Materials`</a>."
   ]
  },
  {
   "cell_type": "code",
   "execution_count": 5,
   "metadata": {},
   "outputs": [],
   "source": [
    "my_project = cript.Project(name=\"My first project\") # instantiate a new Project node (creating a new node) and name your project\n",
    "my_project.save() # save your project to CRIPT database"
   ]
  },
  {
   "cell_type": "markdown",
   "metadata": {},
   "source": [
    "# Create a <a href=\"http://127.0.0.1:8000/nodes/collection/\" target=\"_blank\">`Collection`</a> node\n",
    "\n",
    "A <a href=\"http://127.0.0.1:8000/nodes/collection/\" target=\"_blank\">`Collection`</a> can be thought of as a folder\n",
    "filled with <a href=\"http://127.0.0.1:8000/nodes/experiment/\" target=\"_blank\">`Experiments`</a>.\n",
    "\n",
    "A <a href=\"http://127.0.0.1:8000/nodes/collection/\" target=\"_blank\">`Collection`</a> can be created in the same way as <a href=\"http://127.0.0.1:8000/nodes/project/\" target=\"_blank\">`Project`</a>, however, since every <a href=\"http://127.0.0.1:8000/nodes/collection/\" target=\"_blank\">`Collection`</a> must lives inside of a <a href=\"http://127.0.0.1:8000/nodes/project/\" target=\"_blank\">`Project`</a>, the <a href=\"http://127.0.0.1:8000/nodes/project/\" target=\"_blank\">`Project`</a> that this new <a href=\"http://127.0.0.1:8000/nodes/collection/\" target=\"_blank\">`Collection`</a> belongs to must be specified during instantiation."
   ]
  },
  {
   "cell_type": "code",
   "execution_count": 8,
   "metadata": {},
   "outputs": [],
   "source": [
    "my_collection = cript.Collection(\n",
    "    project=my_project,\n",
    "    name=\"My new collection\",\n",
    ")\n",
    "\n",
    "my_collection.save()"
   ]
  },
  {
   "cell_type": "markdown",
   "metadata": {},
   "source": [
    "# Create an <a href=\"http://127.0.0.1:8000/nodes/experiment/\" target=\"_blank\">`Experiment`</a> node\n",
    "\n",
    "An <a href=\"http://127.0.0.1:8000/nodes/experiment/\" target=\"_blank\">`Experiment`</a> node can be thought of as a folder that can hold\n",
    "<a href=\"http://127.0.0.1:8000/nodes/process/\" target=\"_blank\">`Process`</a> and <a href=\"http://127.0.0.1:8000/nodes/data/\" target=\"_blank\">`Data`</a> nodes.\n",
    "An <a href=\"http://127.0.0.1:8000/nodes/experiment/\" target=\"_blank\">`Experiment`</a> lives inside of a <a href=\"http://127.0.0.1:8000/nodes/collection/\" target=\"_blank\">`Collection`</a> node:"
   ]
  },
  {
   "cell_type": "code",
   "execution_count": 9,
   "metadata": {},
   "outputs": [],
   "source": [
    "# instantiate an experiment node \n",
    "# name your experiment\n",
    "# put it inside of a collection\n",
    "my_experiment = cript.Experiment(\n",
    "    collection=my_collection,\n",
    "    name=\"Anionic Polymerization of Styrene with SecBuLi\"\n",
    ")\n",
    "\n",
    "my_experiment.save()"
   ]
  },
  {
   "cell_type": "markdown",
   "metadata": {},
   "source": [
    "# Get <a href=\"http://127.0.0.1:8000/nodes/material/\" target=\"_blank\">`Material`</a> nodes\n",
    "\n",
    "<a href=\"http://127.0.0.1:8000/nodes/material/\" target=\"_blank\">`Material`</a> and <a href=\"http://127.0.0.1:8000/nodes/inventory/\" target=\"_blank\">`Inventory`</a> nodes can be created in the same way that <a href=\"http://127.0.0.1:8000/nodes/project/\" target=\"_blank\">`Project`</a>, <a href=\"http://127.0.0.1:8000/nodes/collection/\" target=\"_blank\">`Collection`</a>, and <a href=\"http://127.0.0.1:8000/nodes/experiment/\" target=\"_blank\">`Experiment`</a>  nodes were created.\n",
    "\n",
    "For this tutorial, instead of creating new <a href=\"http://127.0.0.1:8000/nodes/material/\" target=\"_blank\">`Material`</a> and <a href=\"http://127.0.0.1:8000/nodes/inventory/\" target=\"_blank\">`Inventory`</a> nodes, we will get references to existing nodes using the <a href=\"http://127.0.0.1:8000/nodes/base_node/#cript.data_model.nodes.base_node.BaseNode.get\" target=\"_blank\">`cript.<node>.get()`</a> method. The <a href=\"http://127.0.0.1:8000/nodes/inventory/\" target=\"_blank\">`Inventory`</a> we will get contains all of the <a href=\"http://127.0.0.1:8000/nodes/material/\" target=\"_blank\">`Material`</a> nodes we will be using."
   ]
  },
  {
   "cell_type": "code",
   "execution_count": 10,
   "metadata": {},
   "outputs": [],
   "source": [
    "# UID of the inventory node we wish to get\n",
    "inv_uid = \"134f2658-6245-42d8-a47e-6424aa3472b4\"\n",
    "# get the inventory by its UID\n",
    "my_inventory = cript.Inventory.get(uid=inv_uid, get_level=1)"
   ]
  },
  {
   "cell_type": "code",
   "execution_count": null,
   "metadata": {},
   "outputs": [],
   "source": []
  }
 ],
 "metadata": {
  "kernelspec": {
   "display_name": "Python 3 (ipykernel)",
   "language": "python",
   "name": "python3"
  },
  "language_info": {
   "codemirror_mode": {
    "name": "ipython",
    "version": 3
   },
   "file_extension": ".py",
   "mimetype": "text/x-python",
   "name": "python",
   "nbconvert_exporter": "python",
   "pygments_lexer": "ipython3",
   "version": "3.10.8"
  }
 },
 "nbformat": 4,
 "nbformat_minor": 2
}
