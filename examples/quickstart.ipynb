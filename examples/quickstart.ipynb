{
 "cells": [
  {
   "cell_type": "markdown",
   "metadata": {},
   "source": [
    "# Connect to CRIPT\n",
    "Your API token can be found on the CRIPT security settings page.\n",
    "It is highly recommended that you store your API token as an environment variable, as explained in the <a href=\"http://127.0.0.1:8000/tutorials/api_token/\" target=\"_blank\">API token tutorial</a>."
   ]
  },
  {
   "cell_type": "code",
   "execution_count": 1,
   "metadata": {},
   "outputs": [],
   "source": [
    "import cript\n",
    "import os"
   ]
  },
  {
   "cell_type": "code",
   "execution_count": 2,
   "metadata": {},
   "outputs": [],
   "source": [
    "host = \"https://criptapp.org/\"\n",
    "token = os.environ.get(\"CRIPT_API_KEY\")"
   ]
  },
  {
   "cell_type": "code",
   "execution_count": 3,
   "metadata": {},
   "outputs": [
    {
     "data": {
      "text/plain": [
       "Connected to https://criptapp.org/api"
      ]
     },
     "execution_count": 3,
     "metadata": {},
     "output_type": "execute_result"
    }
   ],
   "source": [
    "cript.API(host, token)"
   ]
  },
  {
   "cell_type": "markdown",
   "metadata": {},
   "source": [
    "# Create a Node\n",
    "The CRIPT data model is graph-like, which means we can think of each CRIPT object as a node which is linked to other nodes.\n",
    "\n",
    "All primary nodes inherit from the <a href=\"http://127.0.0.1:8000/nodes/base_node/\" target=\"_blank\">BaseNode</a> class, which provides basic methods such as `create`, `save`, `get`, `search`, and `delete`."
   ]
  },
  {
   "cell_type": "code",
   "execution_count": 4,
   "metadata": {},
   "outputs": [],
   "source": [
    "# Instantiate a new project node and save it to CRIPT\n",
    "my_project = cript.Project(name=\"My project\")\n",
    "\n",
    "my_project.save()\n",
    "\n",
    "# create a new material and save it to CRIPT\n",
    "my_material = cript.Material(\n",
    "    project=my_project,  # the project that this material belongs to\n",
    "    name=\"my new material\",  # the material name\n",
    ")\n",
    "\n",
    "my_material.save()\n"
   ]
  },
  {
   "cell_type": "markdown",
   "metadata": {},
   "source": [
    "# Get an existing Node\n",
    "When a node is saved to the CRIPT database, it gets a unique identifier (UID), and a URL.\n",
    "\n",
    "The node `name`, `UID`, or `URL` can all be used to get a reference to the node using the `.get()` method."
   ]
  },
  {
   "cell_type": "code",
   "execution_count": 5,
   "metadata": {},
   "outputs": [],
   "source": [
    "# get a material by its UID\n",
    "my_material = cript.Material.get(uid=\"015fc459-ea9f-4c37-80aa-f51d509095df\")"
   ]
  },
  {
   "cell_type": "code",
   "execution_count": 6,
   "metadata": {},
   "outputs": [],
   "source": [
    "# get a material by its URL\n",
    "my_material = cript.Material.get(url=\"https://criptapp.org/material/015fc459-ea9f-4c37-80aa-f51d509095df/\")"
   ]
  },
  {
   "cell_type": "code",
   "execution_count": 7,
   "metadata": {},
   "outputs": [],
   "source": [
    "# get a material by its name\n",
    "my_material = cript.Material.get(\n",
    "    project=my_project.uid,  # specify which project the material is in\n",
    "    name=\"my new material\",  # specify the material name to get\n",
    ")"
   ]
  },
  {
   "cell_type": "markdown",
   "metadata": {},
   "source": [
    "# Update a Node\n",
    "The `.update()` method can be used to change the value of a specific attribute of an existing node."
   ]
  },
  {
   "cell_type": "code",
   "execution_count": 8,
   "metadata": {},
   "outputs": [],
   "source": [
    "# change the name of an existing project\n",
    "my_project.update(name=\"My new project name\")"
   ]
  },
  {
   "cell_type": "markdown",
   "metadata": {},
   "source": [
    "# Delete a Node\n",
    "The `delete()` method removes an object from the CRIPT database and from memory. In some cases, deleting an object may fail when the object is linked to other nodes. In these cases, the `delete()` method produces an appropriate error message."
   ]
  },
  {
   "cell_type": "code",
   "execution_count": 9,
   "metadata": {},
   "outputs": [],
   "source": [
    "# delete an existing project\n",
    "my_project.delete()"
   ]
  },
  {
   "cell_type": "markdown",
   "metadata": {},
   "source": [
    "## Run a Search Query\n",
    "\n",
    "Existing nodes can be searched by their attributes. In contrast to the `get()` method, the `search()` method returns a `Paginator` object which may contain any number of results. For example, to search for all `Material` nodes with a molar mass less than 10 g/mol:"
   ]
  },
  {
   "cell_type": "code",
   "execution_count": 10,
   "metadata": {},
   "outputs": [],
   "source": [
    "my_results = cript.Material.search(\n",
    "    properties = [\n",
    "        {\n",
    "            \"key\": \"molar_mass\",\n",
    "            \"value__lt\": 10,\n",
    "            \"unit\": \"g/mol\"\n",
    "        }\n",
    "    ]\n",
    ")"
   ]
  },
  {
   "cell_type": "markdown",
   "metadata": {},
   "source": [
    "## Upload a File\n",
    "\n",
    "You may upload a file to the CRIPT database and link it to a specific project, `Data` node object, or material."
   ]
  },
  {
   "cell_type": "code",
   "execution_count": 11,
   "metadata": {},
   "outputs": [
    {
     "name": "stdout",
     "output_type": "stream",
     "text": [
      "\n",
      "Please go to this URL and login:\n",
      "\n",
      "https://auth.globus.org/v2/oauth2/authorize?client_id=44f1654d-e599-4f83-98c7-33cedb2d0576&redirect_uri=https%3A%2F%2Fauth.globus.org%2Fv2%2Fweb%2Fauth-code&scope=openid+profile+email+urn%3Aglobus%3Aauth%3Ascope%3Atransfer.api.globus.org%3Aall+https%3A%2F%2Fauth.globus.org%2Fscopes%2Ff96c4687-2a16-4ea5-b538-60e2a9a85b04%2Fhttps&state=_default&response_type=code&code_challenge=ls9RiDujwAvVK-VkBIaX8C8nxBtvPADaUTpsGcBadE8&code_challenge_method=S256&access_type=offline\n",
      "\n",
      "Enter the code here: oTOrsPpqTsgHd3OJh3Yu1mzd1qPoCX\n"
     ]
    }
   ],
   "source": [
    "# first, need to recreate the project we deleted\n",
    "my_project = cript.Project(name=\"My project\")\n",
    "my_project.save()\n",
    "\n",
    "# for a file named quickstart.csv in current working directory\n",
    "my_path = \"quickstart.csv\" # set path to existing local file\n",
    "my_file = cript.File(project=my_project, source=my_path) # create the file node\n",
    "my_file.save() # save file to CRIPT"
   ]
  },
  {
   "cell_type": "markdown",
   "metadata": {},
   "source": [
    "# Download a File\n",
    "\n",
    "Once a file is uploaded to CRIPT, it can also be downloaded again."
   ]
  },
  {
   "cell_type": "code",
   "execution_count": 12,
   "metadata": {},
   "outputs": [],
   "source": [
    "# local file path you want to download the file to\n",
    "my_path = \"downloaded.txt\" \n",
    "my_file.download_file(path=my_path)"
   ]
  }
 ],
 "metadata": {
  "kernelspec": {
   "display_name": "Python 3 (ipykernel)",
   "language": "python",
   "name": "python3"
  },
  "language_info": {
   "codemirror_mode": {
    "name": "ipython",
    "version": 3
   },
   "file_extension": ".py",
   "mimetype": "text/x-python",
   "name": "python",
   "nbconvert_exporter": "python",
   "pygments_lexer": "ipython3",
   "version": "3.10.8"
  }
 },
 "nbformat": 4,
 "nbformat_minor": 2
}
