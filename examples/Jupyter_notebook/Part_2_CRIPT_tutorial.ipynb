{
 "cells": [
  {
   "cell_type": "markdown",
   "id": "810e06ce-54a8-4d89-a181-d8a73b81cb42",
   "metadata": {},
   "source": [
    "# Part 2: Creating your first Experiment in CRIPT \n",
    "---\n",
    "\n",
    "In this notebook we will create document our first experiment, and all the associated data. The following example is the anionic polymerization of styrene with secBuLi in a mixture of THF and toluene. The reaction is then quenched with butanol and precipitated into methanol to obtain the final product, polystyrene.\n",
    "\n",
    "![Polystyrene_synthesis](../Jupyter_notebook/supporting_files/polystyrene_synthesis.svg)\n"
   ]
  },
  {
   "cell_type": "markdown",
   "id": "7320597d-e481-494b-867c-dbe4d99c8df7",
   "metadata": {},
   "source": [
    "---\n",
    "\n",
    "Before diving directly into this examples we will start with the basics: importing cript module, and connecting to the CRIPT database.\n",
    "\n",
    "<u>Action:</u> Replace 'user = ###@###.##' with the email address you used for your `User node` or user id. Then run the cell. <span style=\"color:gray\">(You can run a cell by either clicking on it and hitting the 'play/run' button in the toolbar or click the cell and hit \"shift\" + \"enter\".)</span>\n",
    "\n",
    "<u>Output:</u> You should see \"Import sucessful!\", \"Connection to database 'test' successful.\", \"you logged in sucessfully.\" "
   ]
  },
  {
   "cell_type": "code",
   "execution_count": 4,
   "id": "b336f3cc-7ad1-43a1-bad2-8227e9ffc740",
   "metadata": {},
   "outputs": [
    {
     "name": "stdout",
     "output_type": "stream",
     "text": [
      "Import successful!\n",
      "Connection to database 'test' successful.\n"
     ]
    },
    {
     "ename": "CRIPTError",
     "evalue": "johndoe1c3@cript.edu not found in database.",
     "output_type": "error",
     "traceback": [
      "\u001b[1;31m---------------------------------------------------------------------------\u001b[0m",
      "\u001b[1;31mCRIPTError\u001b[0m                                Traceback (most recent call last)",
      "\u001b[1;32m<ipython-input-4-0861dccffaeb>\u001b[0m in \u001b[0;36m<module>\u001b[1;34m\u001b[0m\n\u001b[0;32m      8\u001b[0m \u001b[0mdb_database\u001b[0m \u001b[1;33m=\u001b[0m \u001b[1;34m\"test\"\u001b[0m\u001b[1;33m\u001b[0m\u001b[1;33m\u001b[0m\u001b[0m\n\u001b[0;32m      9\u001b[0m \u001b[0muser\u001b[0m \u001b[1;33m=\u001b[0m \u001b[1;34m\"johndoe1c3@cript.edu\"\u001b[0m  \u001b[1;31m# Put your email or uid here\u001b[0m\u001b[1;33m\u001b[0m\u001b[1;33m\u001b[0m\u001b[0m\n\u001b[1;32m---> 10\u001b[1;33m \u001b[0mdb\u001b[0m \u001b[1;33m=\u001b[0m \u001b[0mcript\u001b[0m\u001b[1;33m.\u001b[0m\u001b[0mCriptDB\u001b[0m\u001b[1;33m(\u001b[0m\u001b[0mdb_username\u001b[0m\u001b[1;33m,\u001b[0m \u001b[0mdb_password\u001b[0m\u001b[1;33m,\u001b[0m \u001b[0mdb_project\u001b[0m\u001b[1;33m,\u001b[0m \u001b[0mdb_database\u001b[0m\u001b[1;33m,\u001b[0m \u001b[0muser\u001b[0m\u001b[1;33m)\u001b[0m\u001b[1;33m\u001b[0m\u001b[1;33m\u001b[0m\u001b[0m\n\u001b[0m",
      "\u001b[1;32m~\\AppData\\Roaming\\Python\\Python39\\site-packages\\cript\\database.py\u001b[0m in \u001b[0;36m__init__\u001b[1;34m(self, db_username, db_password, db_project, db_database, user, op_print)\u001b[0m\n\u001b[0;32m     60\u001b[0m \u001b[1;33m\u001b[0m\u001b[0m\n\u001b[0;32m     61\u001b[0m         \u001b[0mself\u001b[0m\u001b[1;33m.\u001b[0m\u001b[0m_user\u001b[0m \u001b[1;33m=\u001b[0m \u001b[1;32mNone\u001b[0m\u001b[1;33m\u001b[0m\u001b[1;33m\u001b[0m\u001b[0m\n\u001b[1;32m---> 62\u001b[1;33m         \u001b[0mself\u001b[0m\u001b[1;33m.\u001b[0m\u001b[0muser\u001b[0m \u001b[1;33m=\u001b[0m \u001b[0muser\u001b[0m\u001b[1;33m\u001b[0m\u001b[1;33m\u001b[0m\u001b[0m\n\u001b[0m\u001b[0;32m     63\u001b[0m \u001b[1;33m\u001b[0m\u001b[0m\n\u001b[0;32m     64\u001b[0m     \u001b[1;32mdef\u001b[0m \u001b[0m__repr__\u001b[0m\u001b[1;33m(\u001b[0m\u001b[0mself\u001b[0m\u001b[1;33m)\u001b[0m\u001b[1;33m:\u001b[0m\u001b[1;33m\u001b[0m\u001b[1;33m\u001b[0m\u001b[0m\n",
      "\u001b[1;32m~\\AppData\\Roaming\\Python\\Python39\\site-packages\\cript\\utils\\type_check.py\u001b[0m in \u001b[0;36m_wrapper\u001b[1;34m(*args, **kwargs)\u001b[0m\n\u001b[0;32m     58\u001b[0m \u001b[1;33m\u001b[0m\u001b[0m\n\u001b[0;32m     59\u001b[0m         \u001b[1;31m# if pass type check, run function\u001b[0m\u001b[1;33m\u001b[0m\u001b[1;33m\u001b[0m\u001b[1;33m\u001b[0m\u001b[0m\n\u001b[1;32m---> 60\u001b[1;33m         \u001b[1;32mreturn\u001b[0m \u001b[0mfunc\u001b[0m\u001b[1;33m(\u001b[0m\u001b[1;33m*\u001b[0m\u001b[0margs\u001b[0m\u001b[1;33m,\u001b[0m \u001b[1;33m**\u001b[0m\u001b[0mkwargs\u001b[0m\u001b[1;33m)\u001b[0m\u001b[1;33m\u001b[0m\u001b[1;33m\u001b[0m\u001b[0m\n\u001b[0m\u001b[0;32m     61\u001b[0m     \u001b[1;32mreturn\u001b[0m \u001b[0m_wrapper\u001b[0m\u001b[1;33m\u001b[0m\u001b[1;33m\u001b[0m\u001b[0m\n\u001b[0;32m     62\u001b[0m \u001b[1;33m\u001b[0m\u001b[0m\n",
      "\u001b[1;32m~\\AppData\\Roaming\\Python\\Python39\\site-packages\\cript\\database.py\u001b[0m in \u001b[0;36muser\u001b[1;34m(self, user)\u001b[0m\n\u001b[0;32m     81\u001b[0m         \u001b[1;32melif\u001b[0m \u001b[1;34m\"@\"\u001b[0m \u001b[1;32min\u001b[0m \u001b[0muser\u001b[0m\u001b[1;33m:\u001b[0m\u001b[1;33m\u001b[0m\u001b[1;33m\u001b[0m\u001b[0m\n\u001b[0;32m     82\u001b[0m             \u001b[1;31m# if user provides email address find their id for them.\u001b[0m\u001b[1;33m\u001b[0m\u001b[1;33m\u001b[0m\u001b[1;33m\u001b[0m\u001b[0m\n\u001b[1;32m---> 83\u001b[1;33m             \u001b[0mself\u001b[0m\u001b[1;33m.\u001b[0m\u001b[0m_user\u001b[0m \u001b[1;33m=\u001b[0m \u001b[0mself\u001b[0m\u001b[1;33m.\u001b[0m\u001b[0m_user_find_by_email\u001b[0m\u001b[1;33m(\u001b[0m\u001b[0muser\u001b[0m\u001b[1;33m)\u001b[0m\u001b[1;33m\u001b[0m\u001b[1;33m\u001b[0m\u001b[0m\n\u001b[0m\u001b[0;32m     84\u001b[0m         \u001b[1;32melse\u001b[0m\u001b[1;33m:\u001b[0m\u001b[1;33m\u001b[0m\u001b[1;33m\u001b[0m\u001b[0m\n\u001b[0;32m     85\u001b[0m             \u001b[1;32mif\u001b[0m \u001b[0mid_type_check\u001b[0m\u001b[1;33m(\u001b[0m\u001b[0muser\u001b[0m\u001b[1;33m)\u001b[0m\u001b[1;33m:\u001b[0m\u001b[1;33m\u001b[0m\u001b[1;33m\u001b[0m\u001b[0m\n",
      "\u001b[1;32m~\\AppData\\Roaming\\Python\\Python39\\site-packages\\cript\\database.py\u001b[0m in \u001b[0;36m_user_find_by_email\u001b[1;34m(self, email)\u001b[0m\n\u001b[0;32m    100\u001b[0m         \u001b[1;32mif\u001b[0m \u001b[0mdoc\u001b[0m \u001b[1;32mis\u001b[0m \u001b[1;32mNone\u001b[0m\u001b[1;33m:\u001b[0m\u001b[1;33m\u001b[0m\u001b[1;33m\u001b[0m\u001b[0m\n\u001b[0;32m    101\u001b[0m             \u001b[0mmsg\u001b[0m \u001b[1;33m=\u001b[0m \u001b[1;34mf\"{email} not found in database.\"\u001b[0m\u001b[1;33m\u001b[0m\u001b[1;33m\u001b[0m\u001b[0m\n\u001b[1;32m--> 102\u001b[1;33m             \u001b[1;32mraise\u001b[0m \u001b[0mcript\u001b[0m\u001b[1;33m.\u001b[0m\u001b[0mCRIPTError\u001b[0m\u001b[1;33m(\u001b[0m\u001b[0mmsg\u001b[0m\u001b[1;33m)\u001b[0m\u001b[1;33m\u001b[0m\u001b[1;33m\u001b[0m\u001b[0m\n\u001b[0m\u001b[0;32m    103\u001b[0m \u001b[1;33m\u001b[0m\u001b[0m\n\u001b[0;32m    104\u001b[0m         \u001b[1;32mreturn\u001b[0m \u001b[0mstr\u001b[0m\u001b[1;33m(\u001b[0m\u001b[0mdoc\u001b[0m\u001b[1;33m[\u001b[0m\u001b[1;34m\"_id\"\u001b[0m\u001b[1;33m]\u001b[0m\u001b[1;33m)\u001b[0m\u001b[1;33m\u001b[0m\u001b[1;33m\u001b[0m\u001b[0m\n",
      "\u001b[1;31mCRIPTError\u001b[0m: johndoe1c3@cript.edu not found in database."
     ]
    }
   ],
   "source": [
    "import cript\n",
    "print(\"Import successful!\")\n",
    "\n",
    "# Connect to database\n",
    "db_username = \"DW_cript\"\n",
    "db_password = \"YXMaoE1\"\n",
    "db_project = \"cript_testing\"\n",
    "db_database = \"test\"\n",
    "user = \"johndoe1c3@cript.edu\"  # Put your email or uid here\n",
    "db = cript.CriptDB(db_username, db_password, db_project, db_database, user)"
   ]
  },
  {
   "cell_type": "markdown",
   "id": "c4810d28-6f50-4fd1-aeb3-d7f1bac19600",
   "metadata": {},
   "source": [
    "\n",
    "<span style=\"color:SteelBlue\"> This previous block of code is the standard code you should type first for all future projects. </span> \n",
    "\n",
    "---"
   ]
  },
  {
   "cell_type": "markdown",
   "id": "078987d3-1f30-49dd-afb2-e6b848a9b068",
   "metadata": {},
   "source": []
  },
  {
   "cell_type": "code",
   "execution_count": null,
   "id": "560a2c78-874b-4e57-ac69-34a15cbe65ec",
   "metadata": {},
   "outputs": [],
   "source": [
    "collections = db.view_all(\"collection\")"
   ]
  },
  {
   "cell_type": "code",
   "execution_count": null,
   "id": "10ca9c70-1f3b-404d-8324-e1a91355f5ac",
   "metadata": {},
   "outputs": [],
   "source": [
    "db.collections\n"
   ]
  },
  {
   "cell_type": "markdown",
   "id": "25606058-c08d-4141-9fef-2df95cf63293",
   "metadata": {},
   "source": [
    "---\n",
    "---\n",
    "\n",
    "## Key Takeaways\n",
    "\n",
    "* You have "
   ]
  },
  {
   "cell_type": "markdown",
   "id": "435c93f6-b185-456a-9698-a6524f9c2d98",
   "metadata": {},
   "source": [
    "---\n",
    "---\n",
    "\n",
    "### What's next?\n"
   ]
  },
  {
   "cell_type": "code",
   "execution_count": null,
   "id": "36860f7f-1a79-4418-89ed-25ef337b9aee",
   "metadata": {},
   "outputs": [],
   "source": []
  }
 ],
 "metadata": {
  "kernelspec": {
   "display_name": "Python 3",
   "language": "python",
   "name": "python3"
  },
  "language_info": {
   "codemirror_mode": {
    "name": "ipython",
    "version": 3
   },
   "file_extension": ".py",
   "mimetype": "text/x-python",
   "name": "python",
   "nbconvert_exporter": "python",
   "pygments_lexer": "ipython3",
   "version": "3.9.5"
  }
 },
 "nbformat": 4,
 "nbformat_minor": 5
}
