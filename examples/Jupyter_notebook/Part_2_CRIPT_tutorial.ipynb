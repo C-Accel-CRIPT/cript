{
 "cells": [
  {
   "cell_type": "markdown",
   "id": "810e06ce-54a8-4d89-a181-d8a73b81cb42",
   "metadata": {},
   "source": [
    "# Part 2: Creating your first Experiment in CRIPT \n",
    "---\n",
    "\n",
    "In this notebook we will create document our first experiment, and all the associated data. The following example is the anionic polymerization of styrene with secBuLi in a mixture of THF and toluene. The reaction is then quenched with butanol and precipitated into methanol to obtain the final product, polystyrene.\n",
    "\n",
    "![Polystyrene_synthesis](../Jupyter_notebook/supporting_files/polystyrene_synthesis.svg)\n"
   ]
  },
  {
   "cell_type": "markdown",
   "id": "7320597d-e481-494b-867c-dbe4d99c8df7",
   "metadata": {},
   "source": [
    "---\n",
    "\n",
    "Before diving directly into this examples we will start with the basics: importing cript module, and connecting to the CRIPT database.\n",
    "\n",
    "<u>Action:</u> Replace 'user = ###@###.##' with the email address you used for your `User node` or user id. Then run the cell. <span style=\"color:gray\">(You can run a cell by either clicking on it and hitting the 'play/run' button in the toolbar or click the cell and hit \"shift\" + \"enter\".)</span>\n",
    "\n",
    "<u>Output:</u> You should see \"Import sucessful!\", \"Connection to database 'test' successful.\", \"you logged in sucessfully.\" "
   ]
  },
  {
   "cell_type": "code",
   "execution_count": 1,
   "id": "b336f3cc-7ad1-43a1-bad2-8227e9ffc740",
   "metadata": {},
   "outputs": [
    {
     "name": "stdout",
     "output_type": "stream",
     "text": [
      "Import successful!\n",
      "Connection to database 'test' successful.\n"
     ]
    }
   ],
   "source": [
    "import cript as C\n",
    "print(\"Import successful!\")\n",
    "\n",
    "# Connect to database\n",
    "db_username = \"DW_cript\"\n",
    "db_password = \"YXMaoE1\"\n",
    "db_project = \"cript_testing\"\n",
    "db_database = \"test\"\n",
    "user = \"johndoe13@cript.edu\"  # Put your email or uid here\n",
    "db = C.CriptDB(db_username, db_password, db_project, db_database, user)"
   ]
  },
  {
   "cell_type": "markdown",
   "id": "c4810d28-6f50-4fd1-aeb3-d7f1bac19600",
   "metadata": {},
   "source": [
    "\n",
    "<span style=\"color:SteelBlue\"> This previous block of code is the standard code you should type first for all future projects. </span> \n",
    "\n",
    "---"
   ]
  },
  {
   "cell_type": "markdown",
   "id": "675dd4e2-7c97-4be7-935b-203ffc06d274",
   "metadata": {},
   "source": [
    "## Collection and Experiment Nodes\n",
    "\n",
    "As we look to create our first expermient there are two orginizational nodes that CRIPT provides: `C.Collection()` and `C.Experiment`."
   ]
  },
  {
   "cell_type": "code",
   "execution_count": 9,
   "id": "40df4cbb-db49-4bda-aeb4-72cc355788b3",
   "metadata": {},
   "outputs": [
    {
     "name": "stdout",
     "output_type": "stream",
     "text": [
      "{\n",
      "  \"class_\": \"Collection\",\n",
      "  \"model_version\": \"0.0.1\",\n",
      "  \"name\": \"Anionic Polymerizations\"\n",
      "}\n"
     ]
    }
   ],
   "source": [
    "collection = C.Collection(\"Anionic Polymerizations\")\n",
    "print(collection)"
   ]
  },
  {
   "cell_type": "markdown",
   "id": "393667d6-9217-46e0-a701-b405a2867596",
   "metadata": {},
   "source": [
    "Now that we create the collection we will want to save it and pick a group to own it. So lets view what groups we are apart of again. To do that, we can use the fact that we are logged in and just call `db.user`."
   ]
  },
  {
   "cell_type": "code",
   "execution_count": 14,
   "id": "560a2c78-874b-4e57-ac69-34a15cbe65ec",
   "metadata": {},
   "outputs": [
    {
     "ename": "AttributeError",
     "evalue": "module 'cript' has no attribute 'Groups'",
     "output_type": "error",
     "traceback": [
      "\u001b[1;31m---------------------------------------------------------------------------\u001b[0m",
      "\u001b[1;31mAttributeError\u001b[0m                            Traceback (most recent call last)",
      "\u001b[1;32m<ipython-input-14-1273829b3598>\u001b[0m in \u001b[0;36m<module>\u001b[1;34m\u001b[0m\n\u001b[1;32m----> 1\u001b[1;33m \u001b[0mgroups\u001b[0m \u001b[1;33m=\u001b[0m \u001b[0mdb\u001b[0m\u001b[1;33m.\u001b[0m\u001b[0mview\u001b[0m\u001b[1;33m(\u001b[0m\u001b[0mcript\u001b[0m\u001b[1;33m.\u001b[0m\u001b[0mGroups\u001b[0m\u001b[1;33m)\u001b[0m\u001b[1;33m\u001b[0m\u001b[1;33m\u001b[0m\u001b[0m\n\u001b[0m",
      "\u001b[1;31mAttributeError\u001b[0m: module 'cript' has no attribute 'Groups'"
     ]
    }
   ],
   "source": [
    "groups = db.view(cript.Groups)"
   ]
  },
  {
   "cell_type": "markdown",
   "id": "f0b6d338-beb6-4a58-9902-e6f531a49b30",
   "metadata": {},
   "source": [
    "We can now see the groups we joined in part 1. We will put this collection into \"tutorial_*****\". To do this, we just need to pass the node want to save and then the group we want to save it to with it. "
   ]
  },
  {
   "cell_type": "code",
   "execution_count": null,
   "id": "f647dae3-5a1b-4599-a418-529510031aac",
   "metadata": {},
   "outputs": [],
   "source": [
    "db.save(collection, groups[0])"
   ]
  },
  {
   "cell_type": "markdown",
   "id": "7e4c71c5-5ecc-415a-86ee-aa171f35a9a6",
   "metadata": {},
   "source": [
    "---\n",
    "\n",
    "Now we have a collection made, let make our `Experiment node`.\n"
   ]
  },
  {
   "cell_type": "code",
   "execution_count": 11,
   "id": "0d949e9c-c7a7-45e1-90df-fe024a95b3c6",
   "metadata": {},
   "outputs": [
    {
     "name": "stdout",
     "output_type": "stream",
     "text": [
      "{\n",
      "  \"class_\": \"Experiment\",\n",
      "  \"model_version\": \"0.0.1\",\n",
      "  \"name\": \"Anionic Polymerization of Styrene with SecBuLi\"\n",
      "}\n"
     ]
    }
   ],
   "source": [
    "expt = C.Experiment(\"Anionic Polymerization of Styrene with SecBuLi\")\n",
    "print(expt)"
   ]
  },
  {
   "cell_type": "markdown",
   "id": "e86a5d97-85b9-42bd-8534-c556e5149783",
   "metadata": {},
   "source": [
    "To view our collections of our user node"
   ]
  },
  {
   "cell_type": "code",
   "execution_count": null,
   "id": "53871150-f327-48ff-bc64-13dcbd4f5193",
   "metadata": {},
   "outputs": [],
   "source": [
    "coll = db.view(cript.Collections)"
   ]
  },
  {
   "cell_type": "markdown",
   "id": "0774a4f9-b59a-472b-ac78-66bd6aea822d",
   "metadata": {},
   "source": []
  },
  {
   "cell_type": "code",
   "execution_count": null,
   "id": "630896b5-6090-43d2-812c-585e46aabe80",
   "metadata": {},
   "outputs": [],
   "source": [
    "db.save(expt, coll[0])"
   ]
  },
  {
   "cell_type": "markdown",
   "id": "96df6c48-7ad4-4b04-9a56-6759115d2ee6",
   "metadata": {},
   "source": [
    "---\n",
    "---\n",
    "\n",
    "## Materal Node\n",
    "\n",
    "### Creating a Material Node\n"
   ]
  },
  {
   "cell_type": "code",
   "execution_count": null,
   "id": "aa96457b-4d67-4093-bb49-617d21e1349b",
   "metadata": {},
   "outputs": [],
   "source": [
    "help(cript.Material.__init__)"
   ]
  },
  {
   "cell_type": "markdown",
   "id": "9abe293b-0a67-4f42-b2c9-45abf3cec6f9",
   "metadata": {},
   "source": [
    "we see that the only required paramter is 'identifier'. Looking at the :param we see it is c_identifier meaning it is a CRIPT object."
   ]
  },
  {
   "cell_type": "code",
   "execution_count": null,
   "id": "d8dd71e5-4a07-4cf1-af73-0b306e512ab0",
   "metadata": {},
   "outputs": [],
   "source": [
    "help(cript.Identifiers.__init__)"
   ]
  },
  {
   "cell_type": "markdown",
   "id": "4a2117be-9bfb-4921-b31c-4894dafb4cae",
   "metadata": {},
   "source": [
    "The minimuim requirement is the preferred_name, but its best to put as much as possible."
   ]
  },
  {
   "cell_type": "code",
   "execution_count": 18,
   "id": "85683cd7-8394-49fe-aa61-7994330c2784",
   "metadata": {},
   "outputs": [
    {
     "name": "stdout",
     "output_type": "stream",
     "text": [
      "<cript.material.Identifiers object at 0x000001F700175460>\n"
     ]
    }
   ],
   "source": [
    "iden = [cript.Identifiers(\n",
    "    preferred_name=\"styrene\",\n",
    "    names=[\"vinylbenzene\", \"phenylethylene\", \"ethenylbenzene\"],\n",
    "    chem_formula=\"C8H8\",\n",
    "    smiles=\"C=Cc1ccccc1\",\n",
    "    cas=\"100-42-5\",\n",
    "    pubchem_cid=\"7501\",\n",
    "    inchi_key=\"PPBRXRYQALVLMV-UHFFFAOYSA-N\"\n",
    ")]\n",
    "\n",
    "print(iden[0])"
   ]
  },
  {
   "cell_type": "code",
   "execution_count": 27,
   "id": "308e9647-f6ba-453b-894d-779196b49c03",
   "metadata": {},
   "outputs": [
    {
     "data": {
      "text/plain": [
       "True"
      ]
     },
     "execution_count": 27,
     "metadata": {},
     "output_type": "execute_result"
    }
   ],
   "source": [
    "isinstance(iden[0], tuple(C.cript_types.values()))"
   ]
  },
  {
   "cell_type": "code",
   "execution_count": null,
   "id": "7f1634df-fd2a-4a66-a196-c781fd13d099",
   "metadata": {},
   "outputs": [],
   "source": [
    "mat_styrene = cript.Material(\n",
    "    identifier=iden,\n",
    "    keywords=[\"styrene\"],\n",
    "    storage=[\n",
    "        cript.Cond(key=\"temp\", value=-20, unit=Unit(\"degC\")),\n",
    "        cript.Cond(key=\"atm\", value=\"argon\")\n",
    "    ]\n",
    "    )"
   ]
  },
  {
   "cell_type": "code",
   "execution_count": null,
   "id": "d7199e0a-5282-4bc2-aebc-fcdee164df2c",
   "metadata": {},
   "outputs": [],
   "source": [
    " unit=Unit(\"degC\")"
   ]
  },
  {
   "cell_type": "code",
   "execution_count": null,
   "id": "751968a2-6592-4b5c-82c4-2812fe412ee1",
   "metadata": {},
   "outputs": [],
   "source": [
    "help(unit)"
   ]
  },
  {
   "cell_type": "code",
   "execution_count": null,
   "id": "441f3b91-fe59-47d4-8411-e294c593ab8e",
   "metadata": {},
   "outputs": [],
   "source": [
    "# add properties\n",
    "prop = [cript.Prop(mat_id=0, key=\"phase\", value=\"liquid\"),\n",
    "        cript.Prop(mat_id=0, key=\"color\", value=\"colorless\"),\n",
    "        cript.Prop(mat_id=0, key=\"mw\", value=104.15, unit=Unit(\"g/mol\"), method=\"prescribed\"),\n",
    "        cript.Prop(mat_id=0, key=\"density\", value=0.906, unit=Unit(\"g/ml\"),\n",
    "                   conditions=[cript.Cond(key=\"temp\", value=25, unit=Unit(\"degC\"))]\n",
    "                   ),\n",
    "        cript.Prop(mat_id=0, key=\"bp\", value=145, unit=Unit(\"degC\"),\n",
    "                   conditions=[cript.Cond(key=\"pressure\", value=1, unit=Unit(\"atm\"))]\n",
    "                   ),\n",
    "        cript.Prop(mat_id=0, key=\"mp\", value=-30, unit=Unit(\"degC\"),\n",
    "                   conditions=[cript.Cond(key=\"pressure\", value=1, unit=Unit(\"bar\"))]\n",
    "                   ),\n",
    "        cript.Prop(mat_id=0, key=\"solubility\", value=0.3, unit=Unit(\"g/mol\"),\n",
    "                   conditions=[\n",
    "                             cript.Cond(key=\"temp\", value=25, unit=Unit(\"degC\")),\n",
    "                             cript.Cond(key=\"solvent\", value=\"water\", unit=Unit(\"bar\"))\n",
    "                         ]\n",
    "                   ),\n",
    "        ]\n",
    "\n",
    "node.properties = prop"
   ]
  },
  {
   "cell_type": "code",
   "execution_count": null,
   "id": "d8680dcf-8052-4c80-ba26-796591767595",
   "metadata": {},
   "outputs": [],
   "source": [
    "saves both"
   ]
  },
  {
   "cell_type": "code",
   "execution_count": null,
   "id": "b840b507-c14d-4ab7-a9db-b71d17774b27",
   "metadata": {},
   "outputs": [],
   "source": [
    "db.save(mat_styrene, expt)\n"
   ]
  },
  {
   "cell_type": "markdown",
   "id": "7b9480d4-1534-467d-9566-79e843a376ef",
   "metadata": {},
   "source": [
    "---\n",
    "\n",
    "### Adding a Existing Material Node\n"
   ]
  },
  {
   "cell_type": "code",
   "execution_count": null,
   "id": "2285217e-8957-4f5e-9e6c-ac2a1ab85e98",
   "metadata": {},
   "outputs": [],
   "source": [
    "query = {\n",
    "    \"field\": \"identifier.name\",\n",
    "    \"type\" : \"$regex\",\n",
    "    \"value\": \"toluene\"\n",
    "}\n",
    "tol_query = db.view(cript.Material, query)\n",
    "query = {\n",
    "    \"field\": \"identifier.name\",\n",
    "    \"type\" : \"$regex\",\n",
    "    \"value\": \"thf\"\n",
    "}\n",
    "thf_query = db.view(cript.Material, query)"
   ]
  },
  {
   "cell_type": "code",
   "execution_count": null,
   "id": "a6640561-aca5-48ba-8d39-00cdf22e61ff",
   "metadata": {},
   "outputs": [],
   "source": []
  },
  {
   "cell_type": "code",
   "execution_count": null,
   "id": "d7a39746-fe85-45c2-b06d-ee26cf1e106d",
   "metadata": {},
   "outputs": [],
   "source": [
    "tol_query[0]"
   ]
  },
  {
   "cell_type": "code",
   "execution_count": null,
   "id": "010ca65a-07e5-41eb-b0ee-474c44d8258a",
   "metadata": {},
   "outputs": [],
   "source": []
  },
  {
   "cell_type": "code",
   "execution_count": null,
   "id": "de878775-eeba-478f-b84b-6a11e7e51636",
   "metadata": {},
   "outputs": [],
   "source": [
    "expt.c_material = [tol_query[0], thf_query[0]]"
   ]
  },
  {
   "cell_type": "markdown",
   "id": "ee98b943-d062-4b26-bcfb-3ef3874680d1",
   "metadata": {},
   "source": []
  },
  {
   "cell_type": "markdown",
   "id": "9c7cd622-14b1-4eeb-a998-585b37d363c4",
   "metadata": {},
   "source": [
    "---\n",
    "\n",
    "### Copying an existing Material Node"
   ]
  },
  {
   "cell_type": "code",
   "execution_count": null,
   "id": "99cb3b13-95e0-4b7a-971a-4f1647d22c3f",
   "metadata": {},
   "outputs": [],
   "source": [
    "query = {\n",
    "    \"field\": \"identifier.name\",\n",
    "    \"type\" : \"$regex\",\n",
    "    \"value\": \"BuLi\"\n",
    "}\n",
    "BuLi_query = db.view(cript.Material, query)"
   ]
  },
  {
   "cell_type": "code",
   "execution_count": null,
   "id": "e9545487-29ae-40de-9cd9-818eb8816188",
   "metadata": {},
   "outputs": [],
   "source": []
  },
  {
   "cell_type": "code",
   "execution_count": null,
   "id": "711d75b6-db25-4b04-94bd-072091bdc423",
   "metadata": {},
   "outputs": [],
   "source": [
    "BuLi_query[0]"
   ]
  },
  {
   "cell_type": "code",
   "execution_count": null,
   "id": "7b006aa7-f332-4aa7-abf6-3f227021ab55",
   "metadata": {},
   "outputs": [],
   "source": []
  },
  {
   "cell_type": "code",
   "execution_count": null,
   "id": "f6c97983-76f3-496f-a805-b95e4ef36254",
   "metadata": {},
   "outputs": [],
   "source": [
    "BuLi_node = cript.copy(BuLi_query[0])\n",
    "BuLi_node.properties[\"conc\"] = \"1.2\""
   ]
  },
  {
   "cell_type": "code",
   "execution_count": null,
   "id": "ef9f0dcd-3b3c-4134-af05-6c683ce98db7",
   "metadata": {},
   "outputs": [],
   "source": [
    "db.save(BuLi_node, expt)"
   ]
  },
  {
   "cell_type": "code",
   "execution_count": null,
   "id": "aa42b6fa-d0a0-4d54-815e-c6991862fa68",
   "metadata": {},
   "outputs": [],
   "source": []
  },
  {
   "cell_type": "code",
   "execution_count": 8,
   "id": "0878494e-44c6-49d6-9664-b5f2b69a7970",
   "metadata": {},
   "outputs": [
    {
     "data": {
      "text/plain": [
       "{'__name__': '__main__',\n",
       " '__doc__': 'Automatically created module for IPython interactive environment',\n",
       " '__package__': None,\n",
       " '__loader__': None,\n",
       " '__spec__': None,\n",
       " '__builtin__': <module 'builtins' (built-in)>,\n",
       " '__builtins__': <module 'builtins' (built-in)>,\n",
       " '_ih': ['',\n",
       "  '__dir__',\n",
       "  '__dir__()',\n",
       "  '__dir__',\n",
       "  'globals()',\n",
       "  'from cript import *',\n",
       "  'globals()',\n",
       "  'import cript',\n",
       "  'globals()'],\n",
       " '_oh': {4: {...}, 6: {...}},\n",
       " '_dh': ['C:\\\\Users\\\\nicep\\\\Desktop\\\\Reseach_Post\\\\Case_studies\\\\cript\\\\examples\\\\Jupyter_notebook'],\n",
       " 'In': ['',\n",
       "  '__dir__',\n",
       "  '__dir__()',\n",
       "  '__dir__',\n",
       "  'globals()',\n",
       "  'from cript import *',\n",
       "  'globals()',\n",
       "  'import cript',\n",
       "  'globals()'],\n",
       " 'Out': {4: {...}, 6: {...}},\n",
       " 'get_ipython': <bound method InteractiveShell.get_ipython of <ipykernel.zmqshell.ZMQInteractiveShell object at 0x000001F777418DF0>>,\n",
       " 'exit': <IPython.core.autocall.ZMQExitAutocall at 0x1f777418340>,\n",
       " 'quit': <IPython.core.autocall.ZMQExitAutocall at 0x1f777418340>,\n",
       " '_': {...},\n",
       " '__': {...},\n",
       " '___': '',\n",
       " '_i': 'import cript',\n",
       " '_ii': 'globals()',\n",
       " '_iii': 'from cript import *',\n",
       " '_i1': '__dir__',\n",
       " '_i2': '__dir__()',\n",
       " '_i3': '__dir__',\n",
       " '_i4': 'globals()',\n",
       " '_4': {...},\n",
       " '_i5': 'from cript import *',\n",
       " 'VERSION': '0.0.1',\n",
       " '__version__': '0.0.1',\n",
       " '__short_version__': '0.0',\n",
       " '_i6': 'globals()',\n",
       " '_6': {...},\n",
       " '_i7': 'import cript',\n",
       " 'cript': <module 'cript' from 'C:\\\\Users\\\\nicep\\\\AppData\\\\Roaming\\\\Python\\\\Python39\\\\site-packages\\\\cript\\\\__init__.py'>,\n",
       " '_i8': 'globals()'}"
      ]
     },
     "execution_count": 8,
     "metadata": {},
     "output_type": "execute_result"
    }
   ],
   "source": [
    "globals()"
   ]
  },
  {
   "cell_type": "code",
   "execution_count": 7,
   "id": "a7429094-a9ee-428e-8236-0f3deff9614d",
   "metadata": {},
   "outputs": [],
   "source": [
    "import cript"
   ]
  },
  {
   "cell_type": "code",
   "execution_count": null,
   "id": "10ca9c70-1f3b-404d-8324-e1a91355f5ac",
   "metadata": {},
   "outputs": [],
   "source": [
    "db.update(expt)\n"
   ]
  },
  {
   "cell_type": "markdown",
   "id": "25606058-c08d-4141-9fef-2df95cf63293",
   "metadata": {},
   "source": [
    "---\n",
    "---\n",
    "\n",
    "## Key Takeaways\n",
    "\n",
    "* You have "
   ]
  },
  {
   "cell_type": "markdown",
   "id": "435c93f6-b185-456a-9698-a6524f9c2d98",
   "metadata": {},
   "source": [
    "---\n",
    "---\n",
    "\n",
    "### What's next?\n"
   ]
  },
  {
   "cell_type": "code",
   "execution_count": null,
   "id": "36860f7f-1a79-4418-89ed-25ef337b9aee",
   "metadata": {},
   "outputs": [],
   "source": []
  }
 ],
 "metadata": {
  "kernelspec": {
   "display_name": "Python 3",
   "language": "python",
   "name": "python3"
  },
  "language_info": {
   "codemirror_mode": {
    "name": "ipython",
    "version": 3
   },
   "file_extension": ".py",
   "mimetype": "text/x-python",
   "name": "python",
   "nbconvert_exporter": "python",
   "pygments_lexer": "ipython3",
   "version": "3.9.5"
  }
 },
 "nbformat": 4,
 "nbformat_minor": 5
}
