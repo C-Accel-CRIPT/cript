{
 "cells": [
  {
   "cell_type": "markdown",
   "id": "810e06ce-54a8-4d89-a181-d8a73b81cb42",
   "metadata": {},
   "source": [
    "# Creating your first Experiment\n",
    "\n",
    "\n",
    "---\n",
    "---\n",
    "\n"
   ]
  },
  {
   "cell_type": "code",
   "execution_count": 1,
   "id": "b336f3cc-7ad1-43a1-bad2-8227e9ffc740",
   "metadata": {},
   "outputs": [
    {
     "name": "stdout",
     "output_type": "stream",
     "text": [
      "Import successful!\n"
     ]
    }
   ],
   "source": [
    "import cript\n",
    "print(\"Import successful!\")"
   ]
  },
  {
   "cell_type": "code",
   "execution_count": 2,
   "id": "b90e795c-d836-4f9e-b094-e567ad7359af",
   "metadata": {},
   "outputs": [
    {
     "name": "stdout",
     "output_type": "stream",
     "text": [
      "Connection to database 'test' successful.\n"
     ]
    }
   ],
   "source": [
    "# Connect to database\n",
    "db_username = \"DW_cript\"\n",
    "db_password = \"YXMaoE1\"\n",
    "db_project = \"cript_testing\"\n",
    "db_database = \"test\"\n",
    "user = \"dylan@cript.edu\"  # Put your email or uid here\n",
    "db = cript.CriptDB(db_username, db_password, db_project, db_database,)"
   ]
  },
  {
   "cell_type": "markdown",
   "id": "078987d3-1f30-49dd-afb2-e6b848a9b068",
   "metadata": {},
   "source": []
  },
  {
   "cell_type": "code",
   "execution_count": 3,
   "id": "560a2c78-874b-4e57-ac69-34a15cbe65ec",
   "metadata": {},
   "outputs": [
    {
     "name": "stdout",
     "output_type": "stream",
     "text": [
      "\n",
      "numbername                          uid                           \n",
      "------------------------------------------------------------\n",
      "0     Dylan's Notebook              60ef01847ee7036ad630ced8      \n",
      "\n"
     ]
    }
   ],
   "source": [
    "collections = db.view_all(\"collection\")"
   ]
  },
  {
   "cell_type": "code",
   "execution_count": 4,
   "id": "10ca9c70-1f3b-404d-8324-e1a91355f5ac",
   "metadata": {},
   "outputs": [
    {
     "data": {
      "text/plain": [
       "['user', 'collection', 'group', 'publication', 'material']"
      ]
     },
     "execution_count": 4,
     "metadata": {},
     "output_type": "execute_result"
    }
   ],
   "source": [
    "db.collections\n"
   ]
  },
  {
   "cell_type": "code",
   "execution_count": null,
   "id": "93fb1ee5-554e-4185-a8cf-f260edc469b8",
   "metadata": {},
   "outputs": [],
   "source": []
  },
  {
   "cell_type": "markdown",
   "id": "435c93f6-b185-456a-9698-a6524f9c2d98",
   "metadata": {},
   "source": [
    "### What's next?\n"
   ]
  }
 ],
 "metadata": {
  "kernelspec": {
   "display_name": "Python 3",
   "language": "python",
   "name": "python3"
  },
  "language_info": {
   "codemirror_mode": {
    "name": "ipython",
    "version": 3
   },
   "file_extension": ".py",
   "mimetype": "text/x-python",
   "name": "python",
   "nbconvert_exporter": "python",
   "pygments_lexer": "ipython3",
   "version": "3.9.5"
  }
 },
 "nbformat": 4,
 "nbformat_minor": 5
}
