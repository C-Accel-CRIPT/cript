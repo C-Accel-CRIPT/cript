{
 "cells": [
  {
   "cell_type": "markdown",
   "id": "810e06ce-54a8-4d89-a181-d8a73b81cb42",
   "metadata": {},
   "source": [
    "# Creating your first Experiment\n"
   ]
  },
  {
   "cell_type": "code",
   "execution_count": null,
   "id": "50c5cbe6-7212-449e-8ee4-4550f4df3453",
   "metadata": {},
   "outputs": [],
   "source": []
  },
  {
   "cell_type": "code",
   "execution_count": null,
   "id": "b336f3cc-7ad1-43a1-bad2-8227e9ffc740",
   "metadata": {},
   "outputs": [],
   "source": []
  },
  {
   "cell_type": "code",
   "execution_count": null,
   "id": "b90e795c-d836-4f9e-b094-e567ad7359af",
   "metadata": {},
   "outputs": [],
   "source": []
  },
  {
   "cell_type": "code",
   "execution_count": null,
   "id": "edfb26fc-8f5f-4460-a779-ee6fefdace3c",
   "metadata": {},
   "outputs": [],
   "source": []
  },
  {
   "cell_type": "code",
   "execution_count": null,
   "id": "560a2c78-874b-4e57-ac69-34a15cbe65ec",
   "metadata": {},
   "outputs": [],
   "source": []
  },
  {
   "cell_type": "code",
   "execution_count": null,
   "id": "10ca9c70-1f3b-404d-8324-e1a91355f5ac",
   "metadata": {},
   "outputs": [],
   "source": []
  },
  {
   "cell_type": "code",
   "execution_count": null,
   "id": "93fb1ee5-554e-4185-a8cf-f260edc469b8",
   "metadata": {},
   "outputs": [],
   "source": []
  },
  {
   "cell_type": "markdown",
   "id": "435c93f6-b185-456a-9698-a6524f9c2d98",
   "metadata": {},
   "source": [
    "### What's next?\n"
   ]
  },
  {
   "cell_type": "code",
   "execution_count": null,
   "id": "a2a3eb14-eb32-46cd-a50f-c4533bc7da69",
   "metadata": {},
   "outputs": [],
   "source": []
  }
 ],
 "metadata": {
  "kernelspec": {
   "display_name": "Python 3",
   "language": "python",
   "name": "python3"
  },
  "language_info": {
   "codemirror_mode": {
    "name": "ipython",
    "version": 3
   },
   "file_extension": ".py",
   "mimetype": "text/x-python",
   "name": "python",
   "nbconvert_exporter": "python",
   "pygments_lexer": "ipython3",
   "version": "3.9.5"
  }
 },
 "nbformat": 4,
 "nbformat_minor": 5
}
