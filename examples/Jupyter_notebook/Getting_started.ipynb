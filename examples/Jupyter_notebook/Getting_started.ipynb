{
 "cells": [
  {
   "cell_type": "markdown",
   "id": "30f04501-2dbb-46a7-bff1-9b2b1807f2f2",
   "metadata": {},
   "source": [
    "# Getting Started with CRIPT (A Community Resource for Innovation in Polymer Technology)\n",
    "## Installation and Setup:\n",
    "\n",
    "Welcome to CRIPT!\n",
    "This Jupyter notebook will take you through the process of creating your user account and loading in the CRIPT python packages needed to use the database."
   ]
  },
  {
   "cell_type": "markdown",
   "id": "479b8530-f079-46a7-b49f-ef40f0eb90bc",
   "metadata": {},
   "source": [
    "---\n",
    "---\n",
    "\n",
    "### Step 1: Downloading CRIPT python package\n",
    "Depending on weather you are a beta-version user or stable-version user, you will <u>**run one**</u> of the following code blocks.\n",
    "This will add the cript pyhton package to your python and download any dependencies that are needed for cript to run correctly.\n",
    "\n",
    "Proceed by running one of the following cells depending on your situation. You can run a cell by either clicking on it and hitting the 'play/run' button in the toolbar or click the cell and hit \"shift\" + \"enter\".\n",
    "\n",
    "<u>Output:</u> You should see alot of stuff being printing to the screen. This is just letting you know all the stuff being installed. The output at the end you are looking for is : \"Successfully installed cript-#.#.#\"  (may take ~1 min to run)\n",
    "\n",
    "If you are running into issues here, it may be due to issues with how python is currently configured. Try googling your error or reach out to CRIPT forum for help. \n",
    "\n",
    "---"
   ]
  },
  {
   "cell_type": "code",
   "execution_count": 12,
   "id": "2e34b138-7728-4fc3-8bb6-29f2c8f2c1e5",
   "metadata": {},
   "outputs": [
    {
     "name": "stdout",
     "output_type": "stream",
     "text": [
      "Processing c:\\users\\nicep\\desktop\\reseach_post\\case_studies\\cript\\dist\\cript-0.0.1.tar.gz\n",
      "  Installing build dependencies: started\n",
      "  Installing build dependencies: finished with status 'done'"
     ]
    },
    {
     "name": "stderr",
     "output_type": "stream",
     "text": [
      "WARNING: Ignoring invalid distribution -p (c:\\python39\\lib\\site-packages)\n",
      "WARNING: Ignoring invalid distribution -ymongo (c:\\python39\\lib\\site-packages)\n",
      "WARNING: Ignoring invalid distribution -ip (c:\\python39\\lib\\site-packages)\n",
      "WARNING: Ignoring invalid distribution - (c:\\python39\\lib\\site-packages)\n",
      "WARNING: Ignoring invalid distribution -p (c:\\python39\\lib\\site-packages)\n",
      "WARNING: Ignoring invalid distribution -ymongo (c:\\python39\\lib\\site-packages)\n",
      "WARNING: Ignoring invalid distribution -ip (c:\\python39\\lib\\site-packages)\n",
      "WARNING: Ignoring invalid distribution - (c:\\python39\\lib\\site-packages)\n",
      "WARNING: Ignoring invalid distribution -p (c:\\python39\\lib\\site-packages)\n",
      "WARNING: Ignoring invalid distribution -ymongo (c:\\python39\\lib\\site-packages)\n",
      "WARNING: Ignoring invalid distribution -ip (c:\\python39\\lib\\site-packages)\n",
      "WARNING: Ignoring invalid distribution - (c:\\python39\\lib\\site-packages)\n",
      "WARNING: Ignoring invalid distribution -p (c:\\python39\\lib\\site-packages)\n",
      "WARNING: Ignoring invalid distribution -ymongo (c:\\python39\\lib\\site-packages)\n",
      "WARNING: Ignoring invalid distribution -ip (c:\\python39\\lib\\site-packages)\n",
      "WARNING: Ignoring invalid distribution - (c:\\python39\\lib\\site-packages)\n",
      "WARNING: You are using pip version 21.1.2; however, version 21.2.2 is available.\n",
      "You should consider upgrading via the 'C:\\Python39\\python.exe -m pip install --upgrade pip' command.\n"
     ]
    },
    {
     "name": "stdout",
     "output_type": "stream",
     "text": [
      "\n",
      "  Getting requirements to build wheel: started\n",
      "  Getting requirements to build wheel: finished with status 'done'\n",
      "    Preparing wheel metadata: started\n",
      "    Preparing wheel metadata: finished with status 'done'\n",
      "Requirement already satisfied: pymongo[srv]>=3.11 in c:\\python39\\lib\\site-packages (from cript==0.0.1) (3.12.0)\n",
      "Requirement already satisfied: bson>=0.5 in c:\\python39\\lib\\site-packages (from cript==0.0.1) (0.5.10)\n",
      "Requirement already satisfied: pint>=0.17 in c:\\python39\\lib\\site-packages (from cript==0.0.1) (0.17)\n",
      "Requirement already satisfied: jsonpatch>=1.32 in c:\\users\\nicep\\appdata\\roaming\\python\\python39\\site-packages (from cript==0.0.1) (1.32)\n",
      "Requirement already satisfied: python-dateutil>=2.4.0 in c:\\python39\\lib\\site-packages (from bson>=0.5->cript==0.0.1) (2.8.2)\n",
      "Requirement already satisfied: six>=1.9.0 in c:\\python39\\lib\\site-packages (from bson>=0.5->cript==0.0.1) (1.16.0)\n",
      "Requirement already satisfied: jsonpointer>=1.9 in c:\\python39\\lib\\site-packages (from jsonpatch>=1.32->cript==0.0.1) (2.1)\n",
      "Requirement already satisfied: packaging in c:\\python39\\lib\\site-packages (from pint>=0.17->cript==0.0.1) (21.0)\n",
      "Requirement already satisfied: dnspython<2.0.0,>=1.16.0 in c:\\python39\\lib\\site-packages (from pymongo[srv]>=3.11->cript==0.0.1) (1.16.0)\n",
      "Requirement already satisfied: pyparsing>=2.0.2 in c:\\python39\\lib\\site-packages (from packaging->pint>=0.17->cript==0.0.1) (2.4.7)\n",
      "Building wheels for collected packages: cript\n",
      "  Building wheel for cript (PEP 517): started\n",
      "  Building wheel for cript (PEP 517): finished with status 'done'\n",
      "  Created wheel for cript: filename=cript-0.0.1-py3-none-any.whl size=25355 sha256=f23ed711a504536c8b9400814fc2b88028d87d90560e8782be92de33d4ce2292\n",
      "  Stored in directory: c:\\users\\nicep\\appdata\\local\\pip\\cache\\wheels\\78\\2a\\7e\\905cf9d1c93cfa2933556e3f8d5405a328dc486de8484c3849\n",
      "Successfully built cript\n",
      "Installing collected packages: cript\n",
      "Successfully installed cript-0.0.1\n"
     ]
    }
   ],
   "source": [
    "# Beta-version user (you have a file named: cript-#.#.#.tar.gz)\n",
    "# This will add CRIPT from the file.\n",
    "\n",
    "# Important: Change the file location to match where you are storing the \".tar.gz\" file on your computer\n",
    "import sys\n",
    "!{sys.executable} -m pip install --user C:/Users/nicep/Desktop/Reseach_Post/Case_studies/cript/dist/cript-0.0.1.tar.gz"
   ]
  },
  {
   "cell_type": "code",
   "execution_count": null,
   "id": "affc0b08-427b-456d-85e9-1c6eac4ee0ea",
   "metadata": {},
   "outputs": [],
   "source": [
    "# Stable-version user\n",
    "# This will import from PyPi (an online python package database)\n",
    "\n",
    "import sys\n",
    "!{sys.executable} -m pip install cript"
   ]
  },
  {
   "cell_type": "markdown",
   "id": "a804d90f-7f73-4900-8c39-0f93c788429c",
   "metadata": {},
   "source": [
    "---\n",
    "---\n",
    "\n",
    "###  Step 2: Importing CRIPT python package\n",
    "Once you have added the CRIPT python package to python, we can now imported into our notebook so we can access all the tools it contains.\n",
    "\n",
    "<u>Output:</u> You should see Import successful printed bellow the cell. If not, try restarting the python kernal: in the menu bar -> Kernel -> Restart Kernel. Then directly re-run this cell.\n",
    "If that doesn't work, then there was an error in the previous step. \n",
    "\n",
    "---"
   ]
  },
  {
   "cell_type": "code",
   "execution_count": 1,
   "id": "abd24e09-8697-4c7a-bf2c-c38c45162f8a",
   "metadata": {},
   "outputs": [
    {
     "name": "stdout",
     "output_type": "stream",
     "text": [
      "Import successful!\n"
     ]
    }
   ],
   "source": [
    "import cript\n",
    "print(\"Import successful!\")\n"
   ]
  },
  {
   "cell_type": "markdown",
   "id": "d7ca2712-8d00-4c76-86a7-2a748dca7937",
   "metadata": {},
   "source": [
    "---\n",
    "---\n",
    "\n",
    "### Step 3: Connecting to the database\n",
    "\n",
    "You will need the following to log into the database:\n",
    "* Username\n",
    "* Password\n",
    "* Project\n",
    "* database\n",
    "\n",
    "To get this information contact CRIPT.\n",
    "\n",
    "<u>Output:</u> You shoul see \"Connection to database 'test' successful.\"\n",
    "\n",
    "---"
   ]
  },
  {
   "cell_type": "code",
   "execution_count": 2,
   "id": "7b835758-d7e8-44de-b347-0e80b8c7cad6",
   "metadata": {},
   "outputs": [
    {
     "name": "stdout",
     "output_type": "stream",
     "text": [
      "Connection to database 'test' successful.\n"
     ]
    }
   ],
   "source": [
    "# Connect to database\n",
    "db_username = \"DW_cript\"\n",
    "db_password = \"YXMaoE1\"\n",
    "db_project = \"cript_testing\"\n",
    "db_database = \"test\"\n",
    "db = cript.CriptDB(db_username, db_password, db_project, db_database)"
   ]
  },
  {
   "cell_type": "markdown",
   "id": "061114c4-8bbc-4ebd-a8b1-ce59ae7bfe62",
   "metadata": {},
   "source": [
    "---\n",
    "---\n",
    "\n",
    "## Creating your User node\n",
    "\n",
    "The first thing a new user needs to do to work on the CRIPT database is create a user node. Everything they do on the database will be tied to this node.\n",
    "\n",
    "**Background:** (These background sections are to provide you with additional understanding of how CRIPT works.) Everything in CRIPT is a `node` (`User`, `Group`, `Experiment`, `Material`, `Data`, ...). We use the word `node` as CRIPT can be thought of a graph with nodes holding a bunch of related information and lines showing the relationship between nodes. This idea of CRIPT being a graph will become more aparent you continue this tutorial. For now just remember that a node is just a group of related information or if you are an avid python user, a node is just a python class. \n",
    "\n",
    "To create the `User node` your name and email are required. You can also provide additional infromation:\n",
    "* phone\n",
    "* website\n",
    "* twitter\n",
    "* orcid\n",
    "* organization\n",
    "* position\n",
    "\n",
    "**Instructions:**  Update the `User node` in the next cell with your information. Delete any rows you don't want to fill out (remeber that name and email are requried). \n",
    "\n",
    "<u>Output:</u> You should see a printout of the user data you just entered.\n",
    "\n",
    "---"
   ]
  },
  {
   "cell_type": "code",
   "execution_count": 5,
   "id": "0975b398-9808-4452-b4df-5b73515aaa7e",
   "metadata": {},
   "outputs": [
    {
     "name": "stdout",
     "output_type": "stream",
     "text": [
      "{\n",
      "  \"class_\": \"User\",\n",
      "  \"email\": \"dylann@cript.edu\",\n",
      "  \"model_version\": \"0.0.1\",\n",
      "  \"name\": \"Dylan W\",\n",
      "  \"orcid\": \"0000-0000-0000-0001\",\n",
      "  \"organization\": \"Mass. Institute of Technology\",\n",
      "  \"position\": \"Research Assistant\"\n",
      "}\n"
     ]
    }
   ],
   "source": [
    "# Generate your User node\n",
    "user_node = cript.User(\n",
    "        name=\"Dylan W\",\n",
    "        email=\"dylann@cript.edu\",\n",
    "        orcid=\"0000-0000-0000-0001\",\n",
    "        organization=\"Mass. Institute of Technology\",\n",
    "        position=\"Research Assistant\"\n",
    ")\n",
    "\n",
    "print(user_node)"
   ]
  },
  {
   "cell_type": "markdown",
   "id": "f0b18cb7-6e5e-4768-9a61-af1a3d8c7491",
   "metadata": {},
   "source": [
    "---\n",
    "We have just created the user node, however it has only been created locally on in this program, it has not been added to the database yet. \n",
    "\n",
    "To add it to the database we will following commands: `db.save(user_node)` \n",
    "The `db.save()` will ask the database to save what's in the parenthesis; which we are giving it the user_node we just made.\n",
    "\n",
    "When `db.save()` is run, validation codes will also be run. In particular for the User node, this will double check to see if the email has been used before. The database doesn't allow the same email to be used for to user nodes. \n",
    "\n",
    "\n",
    "<u>Output:</u> You should get \"'name' was saved to the database.\" message.\n",
    "\n",
    "---"
   ]
  },
  {
   "cell_type": "code",
   "execution_count": 6,
   "id": "d5773a21-aeec-45c0-b41e-23093bded86e",
   "metadata": {},
   "outputs": [
    {
     "name": "stdout",
     "output_type": "stream",
     "text": [
      "'Dylan W' was saved to the database.\n",
      "{\n",
      "  \"class_\": \"User\",\n",
      "  \"created_date\": \"2021-08-01 22:01:56.522209\",\n",
      "  \"email\": \"dylann@cript.edu\",\n",
      "  \"last_modified_date\": \"2021-08-01 22:01:56.522209\",\n",
      "  \"model_version\": \"0.0.1\",\n",
      "  \"name\": \"Dylan W\",\n",
      "  \"orcid\": \"0000-0000-0000-0001\",\n",
      "  \"organization\": \"Mass. Institute of Technology\",\n",
      "  \"position\": \"Research Assistant\",\n",
      "  \"uid\": \"610719d41ec0d33ef2df47ba\"\n",
      "}\n"
     ]
    }
   ],
   "source": [
    "# save user node to database\n",
    "db.save(user_node)\n",
    "print(user_node)"
   ]
  },
  {
   "cell_type": "markdown",
   "id": "9c39f38c-d499-4236-a533-6d24c3f46fc8",
   "metadata": {},
   "source": [
    "In the new output of the previous cell, you should now see the a \"uid\" now has a 24 charaetor long id. This is your personal id for your user node. Also, this means that you are now logged into the CRIPT database. \n",
    "\n",
    "You can use this id or your email address to login to the CRIPT database (we'll go over this more later)."
   ]
  },
  {
   "cell_type": "markdown",
   "id": "5e9df0c1-f3a7-4654-b694-4b82b7e9d266",
   "metadata": {},
   "source": [
    "---\n",
    "---\n",
    "\n",
    "## Creating or Joining Group nodes\n",
    "\n",
    "Next we will look at joining and creating `Group node`. \n",
    "\n",
    "#### Join a group\n",
    "\n",
    "We can view all current groups with the following code:\n",
    "\n",
    "<u>Output:</u> You should see a list of group names and uids."
   ]
  },
  {
   "cell_type": "code",
   "execution_count": 7,
   "id": "049d5f3b-02c8-4dde-b1a6-9e957edd1cee",
   "metadata": {},
   "outputs": [
    {
     "name": "stdout",
     "output_type": "stream",
     "text": [
      "\n",
      "number  name                          uid                           \n",
      "------------------------------------------------------------\n",
      "0       tutorial2                     61059603562d9b1ae64b57a1      \n",
      "1       tutorial2                     6105a7d87be87f0d370dcfb6      \n",
      "2       tutorial2                     6105a9c288bfcadea0a1de22      \n",
      "3       tutorial2                     6105b5c6943a7540d96a7a0f      \n",
      "4       tutorial2                     6105b5ffece42fc1a662dc86      \n",
      "5       tutorial2                     6105b6147b7eb92dbe7ce560      \n",
      "6       tutorial2                     6105b673aec576ad1af2cd1e      \n",
      "7       tutorial2                     6105b6c578671f231a605692      \n",
      "8       tutorial2                     6105b76e4f9203b7950865e1      \n",
      "9       tutorial2                     6105b79659fe0158e9bfcac7      \n",
      "10      tutorial2                     6105ba02fd3970476c2c7578      \n",
      "11      tutorial2                     6105bb37a45c8f1d623a9379      \n",
      "\n"
     ]
    }
   ],
   "source": [
    "# View Existing groups\n",
    "current_groups = db.view(cript.Group)"
   ]
  },
  {
   "cell_type": "markdown",
   "id": "c51b1b42-397b-49eb-bc7f-5819662ef253",
   "metadata": {},
   "source": [
    "Now we will join the 'tutorial' group. \n",
    "To do this we can take the `current_groups` list and select the number\n"
   ]
  },
  {
   "cell_type": "code",
   "execution_count": 9,
   "id": "770b5053-26aa-48bd-91cb-3301c601d1c2",
   "metadata": {},
   "outputs": [
    {
     "name": "stdout",
     "output_type": "stream",
     "text": [
      "['6105a7d87be87f0d370dcfb6']\n",
      "Update of 'Dylan W' successful!\n",
      "{\n",
      "  \"c_group\": [\n",
      "    {\n",
      "      \"name\": \"tutorial2\",\n",
      "      \"uid\": \"6105a7d87be87f0d370dcfb6\"\n",
      "    },\n",
      "    {\n",
      "      \"created_date\": \"2021-07-31 19:43:20.622000\",\n",
      "      \"last_modified_date\": \"2021-07-31 19:43:20.622000\",\n",
      "      \"model_version\": \"0.0.1\",\n",
      "      \"name\": \"tutorial2\",\n",
      "      \"uid\": \"6105a7d87be87f0d370dcfb6\",\n",
      "      \"website\": \"www.test.com\"\n",
      "    }\n",
      "  ],\n",
      "  \"class_\": \"User\",\n",
      "  \"created_date\": \"2021-08-01 22:01:56.522209\",\n",
      "  \"email\": \"dylann@cript.edu\",\n",
      "  \"last_modified_date\": \"2021-08-01 22:02:29.796819\",\n",
      "  \"model_version\": \"0.0.1\",\n",
      "  \"name\": \"Dylan W\",\n",
      "  \"orcid\": \"0000-0000-0000-0001\",\n",
      "  \"organization\": \"Mass. Institute of Technology\",\n",
      "  \"position\": \"Research Assistant\",\n",
      "  \"uid\": \"610719d41ec0d33ef2df47ba\"\n",
      "}\n"
     ]
    }
   ],
   "source": [
    "user_node.c_group = current_groups[1]\n",
    "db.update(user_node)\n",
    "print(user_node)"
   ]
  },
  {
   "cell_type": "markdown",
   "id": "30aef444-7e7b-4de2-8020-d453b44039f6",
   "metadata": {},
   "source": [
    "### Creating a group\n",
    "\n"
   ]
  },
  {
   "cell_type": "code",
   "execution_count": 10,
   "id": "decaca89-8bb4-409a-bcea-c5fc726d8b95",
   "metadata": {},
   "outputs": [],
   "source": [
    "group = cript.Group(\n",
    "    name=\"MIT\"\n",
    ")"
   ]
  },
  {
   "cell_type": "markdown",
   "id": "010b3ecf-4712-47de-b3a4-c03b960481bf",
   "metadata": {},
   "source": [
    "Just like with the `User node`, we can save our new `Group node` with db.save(). \n",
    "\n",
    "Output: You should get \"'group name' was saved to the database.\" message."
   ]
  },
  {
   "cell_type": "code",
   "execution_count": 11,
   "id": "9827b261-7d71-4266-8ade-5cb3490373e1",
   "metadata": {},
   "outputs": [
    {
     "name": "stdout",
     "output_type": "stream",
     "text": [
      "'MIT' was saved to the database.\n"
     ]
    }
   ],
   "source": [
    "group_id = db.save(group)"
   ]
  },
  {
   "cell_type": "markdown",
   "id": "4d8f8314-9808-4c4a-bd1e-31eb95abe658",
   "metadata": {},
   "source": [
    "We can also join the new group we just created with the same code we used above."
   ]
  },
  {
   "cell_type": "markdown",
   "id": "60fa969f-a85b-4378-8cc1-36040f2eb6a0",
   "metadata": {},
   "source": [
    "current_groups = db.view(cript.Group)\n"
   ]
  },
  {
   "cell_type": "code",
   "execution_count": 12,
   "id": "9ceb2ff5-6045-47f2-85e6-38ce7a8288a6",
   "metadata": {},
   "outputs": [
    {
     "name": "stdout",
     "output_type": "stream",
     "text": [
      "\n",
      "number  name                          uid                           \n",
      "------------------------------------------------------------\n",
      "0       tutorial2                     61059603562d9b1ae64b57a1      \n",
      "1       tutorial2                     6105a7d87be87f0d370dcfb6      \n",
      "2       tutorial2                     6105a9c288bfcadea0a1de22      \n",
      "3       tutorial2                     6105b5c6943a7540d96a7a0f      \n",
      "4       tutorial2                     6105b5ffece42fc1a662dc86      \n",
      "5       tutorial2                     6105b6147b7eb92dbe7ce560      \n",
      "6       tutorial2                     6105b673aec576ad1af2cd1e      \n",
      "7       tutorial2                     6105b6c578671f231a605692      \n",
      "8       tutorial2                     6105b76e4f9203b7950865e1      \n",
      "9       tutorial2                     6105b79659fe0158e9bfcac7      \n",
      "10      tutorial2                     6105ba02fd3970476c2c7578      \n",
      "11      tutorial2                     6105bb37a45c8f1d623a9379      \n",
      "12      MIT                           61071a2e1ec0d33ef2df47bb      \n",
      "\n"
     ]
    }
   ],
   "source": [
    "current_groups = db.view(cript.Group)"
   ]
  },
  {
   "cell_type": "code",
   "execution_count": 13,
   "id": "4fc9dfe6-0538-4adb-a3a5-239996d1e859",
   "metadata": {},
   "outputs": [
    {
     "name": "stdout",
     "output_type": "stream",
     "text": [
      "['6105a7d87be87f0d370dcfb6', '6105a7d87be87f0d370dcfb6']\n",
      "Update of 'Dylan W' successful!\n",
      "{\n",
      "  \"c_group\": [\n",
      "    {\n",
      "      \"name\": \"tutorial2\",\n",
      "      \"uid\": \"6105a7d87be87f0d370dcfb6\"\n",
      "    },\n",
      "    {\n",
      "      \"created_date\": \"2021-07-31 19:43:20.622000\",\n",
      "      \"last_modified_date\": \"2021-07-31 19:43:20.622000\",\n",
      "      \"model_version\": \"0.0.1\",\n",
      "      \"name\": \"tutorial2\",\n",
      "      \"uid\": \"6105a7d87be87f0d370dcfb6\",\n",
      "      \"website\": \"www.test.com\"\n",
      "    },\n",
      "    {\n",
      "      \"name\": \"MIT\",\n",
      "      \"uid\": \"61071a2e1ec0d33ef2df47bb\"\n",
      "    }\n",
      "  ],\n",
      "  \"class_\": \"User\",\n",
      "  \"created_date\": \"2021-08-01 22:01:56.522209\",\n",
      "  \"email\": \"dylann@cript.edu\",\n",
      "  \"last_modified_date\": \"2021-08-01 22:05:13.759860\",\n",
      "  \"model_version\": \"0.0.1\",\n",
      "  \"name\": \"Dylan W\",\n",
      "  \"orcid\": \"0000-0000-0000-0001\",\n",
      "  \"organization\": \"Mass. Institute of Technology\",\n",
      "  \"position\": \"Research Assistant\",\n",
      "  \"uid\": \"610719d41ec0d33ef2df47ba\"\n",
      "}\n"
     ]
    }
   ],
   "source": [
    "user_node.c_group = current_groups[12]\n",
    "db.update(user_node)\n",
    "print(user_node)"
   ]
  },
  {
   "cell_type": "code",
   "execution_count": null,
   "id": "11d3a7d6-6fbf-4e72-9883-b9082c613100",
   "metadata": {},
   "outputs": [],
   "source": []
  },
  {
   "cell_type": "code",
   "execution_count": null,
   "id": "2ff70a96-c037-433e-bed8-114cc6ea19a8",
   "metadata": {},
   "outputs": [],
   "source": []
  },
  {
   "cell_type": "code",
   "execution_count": null,
   "id": "463c2206-54ae-477e-908c-17f105b5bbb2",
   "metadata": {},
   "outputs": [],
   "source": []
  },
  {
   "cell_type": "markdown",
   "id": "9852caa7-23a8-4689-903f-ca25015ffe0e",
   "metadata": {},
   "source": [
    "## What's next?\n",
    "\n",
    "Now that we have created your `user node`, and have created or joined a group we can look at how we organize experiments.\n",
    "To do this open \"First_Experiment\" next."
   ]
  },
  {
   "cell_type": "code",
   "execution_count": null,
   "id": "b5e08984-75bf-409c-ad21-598aefbe9336",
   "metadata": {},
   "outputs": [],
   "source": []
  }
 ],
 "metadata": {
  "kernelspec": {
   "display_name": "Python 3",
   "language": "python",
   "name": "python3"
  },
  "language_info": {
   "codemirror_mode": {
    "name": "ipython",
    "version": 3
   },
   "file_extension": ".py",
   "mimetype": "text/x-python",
   "name": "python",
   "nbconvert_exporter": "python",
   "pygments_lexer": "ipython3",
   "version": "3.9.5"
  },
  "toc-autonumbering": false
 },
 "nbformat": 4,
 "nbformat_minor": 5
}
