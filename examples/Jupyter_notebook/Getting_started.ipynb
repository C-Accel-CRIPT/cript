{
 "cells": [
  {
   "cell_type": "markdown",
   "id": "30f04501-2dbb-46a7-bff1-9b2b1807f2f2",
   "metadata": {},
   "source": [
    "# Getting Started with CRIPT (A Community Resource for Innovation in Polymer Technology)\n",
    "## Installation and Setup:\n",
    "\n",
    "Welcome to CRIPT!\n",
    "This Jupyternotebook will take you through the process of creating your user account and loading in the CRIPT python packages needed to use the database."
   ]
  },
  {
   "cell_type": "markdown",
   "id": "479b8530-f079-46a7-b49f-ef40f0eb90bc",
   "metadata": {},
   "source": [
    "---\n",
    "---\n",
    "\n",
    "### Step 1: Downloading CRIPT python package\n",
    "Depending on weather you are a beta-version user or stable-version user, you will **run one** of the following code blocks.\n",
    "This will add the cript pyhton package to your python and download any depenancys that are needed for cript to run correctly.\n",
    "\n",
    "<u>Output:</u> You should see alot of stuff being printing to the screen. This is just letting you know all the stuff being installed. If you are running into issues here, it may be due to issues with how python is currently configured. Try googling your error or reach out to CRIPT forum for help.\n",
    "\n",
    "---"
   ]
  },
  {
   "cell_type": "code",
   "execution_count": 1,
   "id": "2e34b138-7728-4fc3-8bb6-29f2c8f2c1e5",
   "metadata": {},
   "outputs": [
    {
     "name": "stdout",
     "output_type": "stream",
     "text": [
      "Processing c:\\users\\nicep\\desktop\\reseach_post\\case_studies\\cript\\dist\\cript-0.0.1.tar.gz\n",
      "  Installing build dependencies: started\n",
      "  Installing build dependencies: finished with status 'done'\n",
      "  Getting requirements to build wheel: started\n",
      "  Getting requirements to build wheel: finished with status 'done'\n",
      "    Preparing wheel metadata: started\n",
      "    Preparing wheel metadata: finished with status 'done'\n",
      "Requirement already satisfied: pint>=0.17 in c:\\python39\\lib\\site-packages (from cript==0.0.1) (0.17)\n",
      "Requirement already satisfied: pymongo[srv]>=3.11 in c:\\python39\\lib\\site-packages (from cript==0.0.1) (3.12.0)\n",
      "Requirement already satisfied: bson>=0.5 in c:\\python39\\lib\\site-packages (from cript==0.0.1) (0.5.10)\n",
      "Requirement already satisfied: python-dateutil>=2.4.0 in c:\\python39\\lib\\site-packages (from bson>=0.5->cript==0.0.1) (2.8.1)\n",
      "Requirement already satisfied: six>=1.9.0 in c:\\python39\\lib\\site-packages (from bson>=0.5->cript==0.0.1) (1.16.0)\n",
      "Requirement already satisfied: packaging in c:\\users\\nicep\\appdata\\roaming\\python\\python39\\site-packages (from pint>=0.17->cript==0.0.1) (20.9)\n",
      "Requirement already satisfied: dnspython<2.0.0,>=1.16.0 in c:\\python39\\lib\\site-packages (from pymongo[srv]>=3.11->cript==0.0.1) (1.16.0)\n",
      "Requirement already satisfied: pyparsing>=2.0.2 in c:\\python39\\lib\\site-packages (from packaging->pint>=0.17->cript==0.0.1) (2.4.7)\n",
      "Building wheels for collected packages: cript\n",
      "  Building wheel for cript (PEP 517): started\n",
      "  Building wheel for cript (PEP 517): finished with status 'done'\n",
      "  Created wheel for cript: filename=cript-0.0.1-py3-none-any.whl size=20461 sha256=e1a452d246226a0a4d0998de33d440ed315e302a501b361b50829905c8cc62ce\n",
      "  Stored in directory: c:\\users\\nicep\\appdata\\local\\pip\\cache\\wheels\\78\\2a\\7e\\905cf9d1c93cfa2933556e3f8d5405a328dc486de8484c3849\n",
      "Successfully built cript\n",
      "Installing collected packages: cript\n",
      "  Attempting uninstall: cript\n",
      "    Found existing installation: cript 0.0.1\n",
      "    Uninstalling cript-0.0.1:\n",
      "      Successfully uninstalled cript-0.0.1\n",
      "Successfully installed cript-0.0.1"
     ]
    },
    {
     "name": "stderr",
     "output_type": "stream",
     "text": [
      "WARNING: Ignoring invalid distribution -p (c:\\python39\\lib\\site-packages)"
     ]
    },
    {
     "name": "stdout",
     "output_type": "stream",
     "text": [
      "\n"
     ]
    },
    {
     "name": "stderr",
     "output_type": "stream",
     "text": [
      "\n",
      "WARNING: Ignoring invalid distribution -ip (c:\\python39\\lib\\site-packages)\n",
      "WARNING: Ignoring invalid distribution - (c:\\python39\\lib\\site-packages)\n",
      "WARNING: Ignoring invalid distribution -p (c:\\python39\\lib\\site-packages)\n",
      "WARNING: Ignoring invalid distribution -ip (c:\\python39\\lib\\site-packages)\n",
      "WARNING: Ignoring invalid distribution - (c:\\python39\\lib\\site-packages)\n",
      "DEPRECATION: Source distribution is being reinstalled despite an installed package having the same name and version as the installed package. pip 21.2 will remove support for this functionality. A possible replacement is use --force-reinstall. You can find discussion regarding this at https://github.com/pypa/pip/issues/8711.\n",
      "WARNING: Ignoring invalid distribution -p (c:\\python39\\lib\\site-packages)\n",
      "WARNING: Ignoring invalid distribution -ip (c:\\python39\\lib\\site-packages)\n",
      "WARNING: Ignoring invalid distribution - (c:\\python39\\lib\\site-packages)\n",
      "    WARNING: Ignoring invalid distribution -p (c:\\python39\\lib\\site-packages)\n",
      "    WARNING: Ignoring invalid distribution -ip (c:\\python39\\lib\\site-packages)\n",
      "    WARNING: Ignoring invalid distribution - (c:\\python39\\lib\\site-packages)\n",
      "WARNING: Ignoring invalid distribution -p (c:\\python39\\lib\\site-packages)\n",
      "WARNING: Ignoring invalid distribution -ip (c:\\python39\\lib\\site-packages)\n",
      "WARNING: Ignoring invalid distribution - (c:\\python39\\lib\\site-packages)\n",
      "WARNING: Ignoring invalid distribution -p (c:\\python39\\lib\\site-packages)\n",
      "WARNING: Ignoring invalid distribution -ip (c:\\python39\\lib\\site-packages)\n",
      "WARNING: Ignoring invalid distribution - (c:\\python39\\lib\\site-packages)\n",
      "WARNING: You are using pip version 21.1.2; however, version 21.1.3 is available.\n",
      "You should consider upgrading via the 'C:\\Python39\\python.exe -m pip install --upgrade pip' command.\n"
     ]
    }
   ],
   "source": [
    "# Beta-version user (you have a file named: cript-#.#.#.tar.gz)\n",
    "# This will add CRIPT from the file.\n",
    "\n",
    "# Important: Change the file location to match where you are storing the \".tar.gz\" file on your computer\n",
    "import sys\n",
    "!{sys.executable} -m pip install C:/Users/nicep/Desktop/Reseach_Post/Case_studies/cript/dist/cript-0.0.1.tar.gz"
   ]
  },
  {
   "cell_type": "code",
   "execution_count": null,
   "id": "affc0b08-427b-456d-85e9-1c6eac4ee0ea",
   "metadata": {},
   "outputs": [],
   "source": [
    "# Stable-version user\n",
    "# This will import from PyPi (an online python package database)\n",
    "\n",
    "import sys\n",
    "!{sys.executable} -m pip install cript"
   ]
  },
  {
   "cell_type": "markdown",
   "id": "a804d90f-7f73-4900-8c39-0f93c788429c",
   "metadata": {},
   "source": [
    "---\n",
    "---\n",
    "\n",
    "###  Step 2: Importing CRIPT python package\n",
    "Once you have added the CRIPT python package to python, we can now imported into our notebook so we can access all the tools it contains.\n",
    "\n",
    "<u>Output:</u> You should see Import successful printed bellow the cell. If not, there was an error in the previous step. \n",
    "\n",
    "This code should be added and run first to all your future CRIPT projects. \n",
    "\n",
    "---"
   ]
  },
  {
   "cell_type": "code",
   "execution_count": 2,
   "id": "abd24e09-8697-4c7a-bf2c-c38c45162f8a",
   "metadata": {},
   "outputs": [
    {
     "name": "stdout",
     "output_type": "stream",
     "text": [
      "Import successful!\n"
     ]
    }
   ],
   "source": [
    "import cript\n",
    "from criptdb import criptdb\n",
    "#import pymongo\n",
    "\n",
    "print(\"Import successful!\")"
   ]
  },
  {
   "cell_type": "markdown",
   "id": "d7ca2712-8d00-4c76-86a7-2a748dca7937",
   "metadata": {},
   "source": [
    "---\n",
    "---\n",
    "\n",
    "### Step 3: Connecting to the database\n",
    "\n",
    "You will need the following to log into the database:\n",
    "* Username\n",
    "* Password\n",
    "* Project\n",
    "* database\n",
    "\n",
    "To get this information contact CRIPT.\n",
    "\n",
    "<u>Output:</u> You shoul see \"Connection to database 'test' successful.\"\n",
    "\n",
    "---"
   ]
  },
  {
   "cell_type": "code",
   "execution_count": 3,
   "id": "7b835758-d7e8-44de-b347-0e80b8c7cad6",
   "metadata": {},
   "outputs": [
    {
     "name": "stdout",
     "output_type": "stream",
     "text": [
      "Connection to database 'test' successful.\n",
      "<criptdb.database_connection.criptdb object at 0x0000020AC44BDAF0>\n"
     ]
    }
   ],
   "source": [
    "# Connect to database\n",
    "username = \"DW_cript\"\n",
    "password = \"YXMaoE1\"\n",
    "project = \"cript_testing\"\n",
    "database = \"test\"\n",
    "db = criptdb(username, password, project, database)"
   ]
  },
  {
   "cell_type": "markdown",
   "id": "061114c4-8bbc-4ebd-a8b1-ce59ae7bfe62",
   "metadata": {},
   "source": [
    "---\n",
    "---\n",
    "\n",
    "## Creating your User node\n",
    "\n",
    "The first thing a new user needs to do to work on the CRIPT database is create a user node. Everything they do on the database will be tied to this node.\n",
    "\n",
    "**Background:** (These background sections are to provide you with additional understanding of how CRIPT works.) Everything in CRIPT is a node (Users, Groups, Experiments, Materials, Data, ...). We use the word node as CRIPT can be thought of a graph with nodes holding a bunch of related information and lines showing the relationship between nodes. This idea of CRIPT being a graph will become more aparent you continue this tutorial. For now just remember that a node is just a group of related information or if you are an avid python user, a node is just a python class. \n",
    "\n",
    "To create the User node your name and email are required. You can also provide additional infromation:\n",
    "* phone\n",
    "* website\n",
    "* twitter\n",
    "* orcid\n",
    "* organization\n",
    "* position\n",
    "\n",
    "**Instructions:**  Update the User node in the next cell with your information. Delete any rows you don't want to fill out (remeber that name and email are requried). \n",
    "\n",
    "<u>Output:</u> You should see a printout of the user data you just entered.\n",
    "\n",
    "---"
   ]
  },
  {
   "cell_type": "code",
   "execution_count": 9,
   "id": "0975b398-9808-4452-b4df-5b73515aaa7e",
   "metadata": {},
   "outputs": [
    {
     "name": "stdout",
     "output_type": "stream",
     "text": [
      "{\n",
      "  \"class_\": \"user\",\n",
      "  \"email\": \"dylan@cript.edu\",\n",
      "  \"model_version\": \"0.0.1\",\n",
      "  \"name\": \"Dylan W\",\n",
      "  \"orcid\": \"0000-0000-0000-0001\",\n",
      "  \"organization\": \"Mass. Institute of Technology\",\n",
      "  \"position\": \"Research Assistant\"\n",
      "}\n"
     ]
    }
   ],
   "source": [
    "# Generate your User node\n",
    "user_node = cript.User(\n",
    "        name=\"Dylan W\",\n",
    "        email=\"dylan@cript.edu\",\n",
    "        orcid=\"0000-0000-0000-0001\",\n",
    "        organization=\"Mass. Institute of Technology\",\n",
    "        position=\"Research Assistant\"\n",
    ")\n",
    "\n",
    "print(user_node)"
   ]
  },
  {
   "cell_type": "markdown",
   "id": "f0b18cb7-6e5e-4768-9a61-af1a3d8c7491",
   "metadata": {},
   "source": [
    "---\n",
    "We have just created the user node, however it has only been created locally on in this program, it has not been added to the database yet. \n",
    "\n",
    "To add it to the database we will following commands: `db.save(user_node)` \n",
    "The `db.save()` will ask the database to save what's in the parenthesis; which we are giving it the user_node we just made.\n",
    "\n",
    "When `db.save()` is run, validation codes will also be run. In particular for the User node, this will double check to see if the email has been used before. The database doesn't allow the same email to be used for to user nodes. \n",
    "\n",
    "\n",
    "<u>Output:</u> You should get \"'name' was saved to the database.\" message.\n",
    "\n",
    "---"
   ]
  },
  {
   "cell_type": "code",
   "execution_count": 11,
   "id": "d5773a21-aeec-45c0-b41e-23093bded86e",
   "metadata": {},
   "outputs": [
    {
     "ename": "Exception",
     "evalue": "uid should not have an id already. If you are trying to update an existing doc, don't use 'save', use 'update'.",
     "output_type": "error",
     "traceback": [
      "\u001b[1;31m---------------------------------------------------------------------------\u001b[0m",
      "\u001b[1;31mException\u001b[0m                                 Traceback (most recent call last)",
      "\u001b[1;32m<ipython-input-11-bfec1e4998da>\u001b[0m in \u001b[0;36m<module>\u001b[1;34m\u001b[0m\n\u001b[0;32m      1\u001b[0m \u001b[1;31m# save user node to database\u001b[0m\u001b[1;33m\u001b[0m\u001b[1;33m\u001b[0m\u001b[1;33m\u001b[0m\u001b[0m\n\u001b[1;32m----> 2\u001b[1;33m \u001b[0mdb\u001b[0m\u001b[1;33m.\u001b[0m\u001b[0msave\u001b[0m\u001b[1;33m(\u001b[0m\u001b[0muser_node\u001b[0m\u001b[1;33m)\u001b[0m\u001b[1;33m\u001b[0m\u001b[1;33m\u001b[0m\u001b[0m\n\u001b[0m",
      "\u001b[1;32mC:\\Python39\\lib\\site-packages\\criptdb\\database_connection.py\u001b[0m in \u001b[0;36msave\u001b[1;34m(self, obj)\u001b[0m\n\u001b[0;32m     23\u001b[0m \u001b[1;33m\u001b[0m\u001b[0m\n\u001b[0;32m     24\u001b[0m     \u001b[1;32mdef\u001b[0m \u001b[0msave\u001b[0m\u001b[1;33m(\u001b[0m\u001b[0mself\u001b[0m\u001b[1;33m,\u001b[0m \u001b[0mobj\u001b[0m\u001b[1;33m)\u001b[0m\u001b[1;33m:\u001b[0m\u001b[1;33m\u001b[0m\u001b[1;33m\u001b[0m\u001b[0m\n\u001b[1;32m---> 25\u001b[1;33m         \u001b[0mdoc\u001b[0m \u001b[1;33m=\u001b[0m \u001b[0mself\u001b[0m\u001b[1;33m.\u001b[0m\u001b[0m_create_doc\u001b[0m\u001b[1;33m(\u001b[0m\u001b[0mobj\u001b[0m\u001b[1;33m)\u001b[0m\u001b[1;33m\u001b[0m\u001b[1;33m\u001b[0m\u001b[0m\n\u001b[0m\u001b[0;32m     26\u001b[0m         \u001b[0mcoll\u001b[0m \u001b[1;33m=\u001b[0m \u001b[0mself\u001b[0m\u001b[1;33m.\u001b[0m\u001b[0mdb\u001b[0m\u001b[1;33m[\u001b[0m\u001b[0mobj\u001b[0m\u001b[1;33m.\u001b[0m\u001b[0mclass_\u001b[0m\u001b[1;33m]\u001b[0m\u001b[1;33m\u001b[0m\u001b[1;33m\u001b[0m\u001b[0m\n\u001b[0;32m     27\u001b[0m \u001b[1;33m\u001b[0m\u001b[0m\n",
      "\u001b[1;32mC:\\Python39\\lib\\site-packages\\criptdb\\database_connection.py\u001b[0m in \u001b[0;36m_create_doc\u001b[1;34m(self, obj)\u001b[0m\n\u001b[0;32m     42\u001b[0m             \u001b[0mdoc\u001b[0m\u001b[1;33m.\u001b[0m\u001b[0mpop\u001b[0m\u001b[1;33m(\u001b[0m\u001b[1;34m\"uid\"\u001b[0m\u001b[1;33m)\u001b[0m\u001b[1;33m\u001b[0m\u001b[1;33m\u001b[0m\u001b[0m\n\u001b[0;32m     43\u001b[0m         \u001b[1;32melse\u001b[0m\u001b[1;33m:\u001b[0m\u001b[1;33m\u001b[0m\u001b[1;33m\u001b[0m\u001b[0m\n\u001b[1;32m---> 44\u001b[1;33m             \u001b[1;32mraise\u001b[0m \u001b[0mException\u001b[0m\u001b[1;33m(\u001b[0m\u001b[1;34m\"uid should not have an id already. If you are trying to update an existing doc, don't use 'save', use 'update'.\"\u001b[0m\u001b[1;33m)\u001b[0m\u001b[1;33m\u001b[0m\u001b[1;33m\u001b[0m\u001b[0m\n\u001b[0m\u001b[0;32m     45\u001b[0m \u001b[1;33m\u001b[0m\u001b[0m\n\u001b[0;32m     46\u001b[0m         \u001b[1;31m# add time stamps\u001b[0m\u001b[1;33m\u001b[0m\u001b[1;33m\u001b[0m\u001b[1;33m\u001b[0m\u001b[0m\n",
      "\u001b[1;31mException\u001b[0m: uid should not have an id already. If you are trying to update an existing doc, don't use 'save', use 'update'."
     ]
    }
   ],
   "source": [
    "# save user node to database\n",
    "db.save(user_node)"
   ]
  },
  {
   "cell_type": "markdown",
   "id": "5e9df0c1-f3a7-4654-b694-4b82b7e9d266",
   "metadata": {},
   "source": [
    "---\n",
    "---\n",
    "\n",
    "## Creating or Joining Group nodes\n",
    "\n",
    "\n"
   ]
  },
  {
   "cell_type": "code",
   "execution_count": null,
   "id": "049d5f3b-02c8-4dde-b1a6-9e957edd1cee",
   "metadata": {},
   "outputs": [],
   "source": [
    "# View Existing groups\n",
    "db.view_all(Groups)"
   ]
  },
  {
   "cell_type": "code",
   "execution_count": null,
   "id": "770b5053-26aa-48bd-91cb-3301c601d1c2",
   "metadata": {},
   "outputs": [],
   "source": [
    "user_node.groups = []"
   ]
  },
  {
   "cell_type": "code",
   "execution_count": null,
   "id": "bd6fbd91-9903-4797-a444-11e80a573fb6",
   "metadata": {},
   "outputs": [],
   "source": []
  },
  {
   "cell_type": "code",
   "execution_count": null,
   "id": "decaca89-8bb4-409a-bcea-c5fc726d8b95",
   "metadata": {},
   "outputs": [],
   "source": []
  },
  {
   "cell_type": "code",
   "execution_count": null,
   "id": "68cd8261-a856-402f-819d-60fab47e49dc",
   "metadata": {},
   "outputs": [],
   "source": []
  },
  {
   "cell_type": "code",
   "execution_count": null,
   "id": "9827b261-7d71-4266-8ade-5cb3490373e1",
   "metadata": {},
   "outputs": [],
   "source": []
  },
  {
   "cell_type": "markdown",
   "id": "9852caa7-23a8-4689-903f-ca25015ffe0e",
   "metadata": {},
   "source": [
    "## What's next?\n",
    "\n",
    "Now that we have created your user node, and have created or joined a group we can add our first expermiment.\n",
    "To do this open \"First_Experiment\" next."
   ]
  },
  {
   "cell_type": "code",
   "execution_count": null,
   "id": "b5e08984-75bf-409c-ad21-598aefbe9336",
   "metadata": {},
   "outputs": [],
   "source": []
  }
 ],
 "metadata": {
  "kernelspec": {
   "display_name": "Python 3",
   "language": "python",
   "name": "python3"
  },
  "language_info": {
   "codemirror_mode": {
    "name": "ipython",
    "version": 3
   },
   "file_extension": ".py",
   "mimetype": "text/x-python",
   "name": "python",
   "nbconvert_exporter": "python",
   "pygments_lexer": "ipython3",
   "version": "3.9.5"
  },
  "toc-autonumbering": false
 },
 "nbformat": 4,
 "nbformat_minor": 5
}
