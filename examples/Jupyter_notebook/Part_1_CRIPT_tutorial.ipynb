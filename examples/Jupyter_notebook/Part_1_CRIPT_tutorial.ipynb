{
 "cells": [
  {
   "cell_type": "markdown",
   "id": "30f04501-2dbb-46a7-bff1-9b2b1807f2f2",
   "metadata": {},
   "source": [
    "# Part 1: Getting Started with CRIPT (A Community Resource for Innovation in Polymer Technology)\n",
    "\n",
    "---\n",
    "\n",
    "**Welcome to CRIPT!**\n",
    "\n",
    "CRIPT's mission to develop a digital ecosystem for polymers. As part of that mission, we have generated a standard data model and schema to store, share, and search polymer data. For the moment, the main way to use the data model is through a Python API (Application Programming Interface) which is built upon MongoDB (a cloud database servies). \n",
    "\n",
    "To help users learn CRIPT's API we have put together a series of tutorial. The tutorial will teach both the Python commands needed to use the API and also provide lessons about the underlying data model. The tutorial is written with the expectation that you have a very basic understanding of the Python programing languange. (If you have no Python experinace, fear not, they are many tutorials on YouTube where you can learn.) \n",
    "\n",
    "\n",
    "![Data_Schema](../Jupyter_notebook/supporting_files/pics/P1_directed_data_model.svg)\n",
    "\n",
    "\n",
    "## Installation and Setup:\n",
    "\n",
    "The remaining of Jupyter notebook will take you through the process of installing the CRIPT API, creating your user account and joining a group."
   ]
  },
  {
   "cell_type": "markdown",
   "id": "479b8530-f079-46a7-b49f-ef40f0eb90bc",
   "metadata": {},
   "source": [
    "---\n",
    "---\n",
    "\n",
    "### Step 1: Downloading CRIPT python package\n",
    "Depending on whether you are a beta-version user or stable-version user, you will <u>**run one**</u> of the following code blocks.\n",
    "This will add the CRIPT pyhton package to your python and download any dependencies that are needed for CRIPT to run correctly.\n",
    "\n",
    "<u>Action:</u> Proceed by running one of the following cells depending on your situation. \n",
    "<span style=\"color:gray\">(You can run a cell by either clicking on it and hitting the 'play/run' button in the toolbar or click the cell and hit \"shift\" + \"enter\".)</span>\n",
    "\n",
    "<u>Output:</u> You should see alot of stuff being printing to the screen. This is just letting you know all the stuff being installed. The output at the end you are looking for is : \"Successfully installed cript-#.#.#\"  (may take ~1 min to run)\n",
    "\n",
    "If you are running into issues here, it may be due to issues with how python is currently configured. Try googling or looking at StackOverflow for help on your error. \n",
    "\n",
    "---"
   ]
  },
  {
   "cell_type": "code",
   "execution_count": 3,
   "id": "2e34b138-7728-4fc3-8bb6-29f2c8f2c1e5",
   "metadata": {},
   "outputs": [
    {
     "name": "stdout",
     "output_type": "stream",
     "text": [
      "Processing c:\\users\\nicep\\desktop\\reseach_post\\case_studies\\cript\\dist\\cript-0.0.1.tar.gz\n",
      "  Installing build dependencies: started\n",
      "  Installing build dependencies: finished with status 'done'\n",
      "  Getting requirements to build wheel: started\n",
      "  Getting requirements to build wheel: finished with status 'done'\n",
      "    Preparing wheel metadata: started\n"
     ]
    },
    {
     "name": "stderr",
     "output_type": "stream",
     "text": [
      "WARNING: Ignoring invalid distribution -p (c:\\python39\\lib\\site-packages)\n",
      "WARNING: Ignoring invalid distribution -ymongo (c:\\python39\\lib\\site-packages)\n",
      "WARNING: Ignoring invalid distribution -ip (c:\\python39\\lib\\site-packages)\n",
      "WARNING: Ignoring invalid distribution - (c:\\python39\\lib\\site-packages)\n",
      "WARNING: Ignoring invalid distribution -p (c:\\python39\\lib\\site-packages)\n",
      "WARNING: Ignoring invalid distribution -ymongo (c:\\python39\\lib\\site-packages)\n",
      "WARNING: Ignoring invalid distribution -ip (c:\\python39\\lib\\site-packages)\n",
      "WARNING: Ignoring invalid distribution - (c:\\python39\\lib\\site-packages)\n",
      "WARNING: Ignoring invalid distribution -p (c:\\python39\\lib\\site-packages)\n",
      "WARNING: Ignoring invalid distribution -ymongo (c:\\python39\\lib\\site-packages)\n",
      "WARNING: Ignoring invalid distribution -ip (c:\\python39\\lib\\site-packages)\n",
      "WARNING: Ignoring invalid distribution - (c:\\python39\\lib\\site-packages)\n",
      "WARNING: Ignoring invalid distribution -p (c:\\python39\\lib\\site-packages)\n",
      "WARNING: Ignoring invalid distribution -ymongo (c:\\python39\\lib\\site-packages)\n",
      "WARNING: Ignoring invalid distribution -ip (c:\\python39\\lib\\site-packages)\n",
      "WARNING: Ignoring invalid distribution - (c:\\python39\\lib\\site-packages)\n",
      "WARNING: You are using pip version 21.1.2; however, version 21.2.3 is available.\n",
      "You should consider upgrading via the 'C:\\Python39\\python.exe -m pip install --upgrade pip' command.\n"
     ]
    },
    {
     "name": "stdout",
     "output_type": "stream",
     "text": [
      "    Preparing wheel metadata: finished with status 'done'\n",
      "Requirement already satisfied: pint>=0.17 in c:\\python39\\lib\\site-packages (from cript==0.0.1) (0.17)\n",
      "Requirement already satisfied: jsonpatch>=1.32 in c:\\users\\nicep\\appdata\\roaming\\python\\python39\\site-packages (from cript==0.0.1) (1.32)\n",
      "Requirement already satisfied: bson>=0.5 in c:\\python39\\lib\\site-packages (from cript==0.0.1) (0.5.10)\n",
      "Requirement already satisfied: pymongo[srv]>=3.11 in c:\\python39\\lib\\site-packages (from cript==0.0.1) (3.12.0)\n",
      "Requirement already satisfied: python-dateutil>=2.4.0 in c:\\python39\\lib\\site-packages (from bson>=0.5->cript==0.0.1) (2.8.2)\n",
      "Requirement already satisfied: six>=1.9.0 in c:\\python39\\lib\\site-packages (from bson>=0.5->cript==0.0.1) (1.16.0)\n",
      "Requirement already satisfied: jsonpointer>=1.9 in c:\\python39\\lib\\site-packages (from jsonpatch>=1.32->cript==0.0.1) (2.1)\n",
      "Requirement already satisfied: packaging in c:\\python39\\lib\\site-packages (from pint>=0.17->cript==0.0.1) (21.0)\n",
      "Requirement already satisfied: dnspython<2.0.0,>=1.16.0 in c:\\python39\\lib\\site-packages (from pymongo[srv]>=3.11->cript==0.0.1) (1.16.0)\n",
      "Requirement already satisfied: pyparsing>=2.0.2 in c:\\python39\\lib\\site-packages (from packaging->pint>=0.17->cript==0.0.1) (2.4.7)\n",
      "Building wheels for collected packages: cript\n",
      "  Building wheel for cript (PEP 517): started\n",
      "  Building wheel for cript (PEP 517): finished with status 'done'\n",
      "  Created wheel for cript: filename=cript-0.0.1-py3-none-any.whl size=27118 sha256=66f1e4a1fde65881da8afb81f24ce0ab19dadee38542eae89671311c9db5f752\n",
      "  Stored in directory: c:\\users\\nicep\\appdata\\local\\pip\\cache\\wheels\\78\\2a\\7e\\905cf9d1c93cfa2933556e3f8d5405a328dc486de8484c3849\n",
      "Successfully built cript\n",
      "Installing collected packages: cript\n",
      "Successfully installed cript-0.0.1\n"
     ]
    }
   ],
   "source": [
    "# Beta-version user (you have a file named: cript-#.#.#.tar.gz)\n",
    "# This will add CRIPT from the file.\n",
    "\n",
    "# Important: Change the file location to match where you are storing the \".tar.gz\" file on your computer\n",
    "import sys\n",
    "!{sys.executable} -m pip install --user C:/Users/nicep/Desktop/Reseach_Post/Case_studies/cript/dist/cript-0.0.1.tar.gz"
   ]
  },
  {
   "cell_type": "code",
   "execution_count": null,
   "id": "affc0b08-427b-456d-85e9-1c6eac4ee0ea",
   "metadata": {},
   "outputs": [],
   "source": [
    "# Stable-version user\n",
    "# This will import from PyPi (an online python package database)\n",
    "\n",
    "import sys\n",
    "!{sys.executable} -m pip install cript"
   ]
  },
  {
   "cell_type": "markdown",
   "id": "a804d90f-7f73-4900-8c39-0f93c788429c",
   "metadata": {},
   "source": [
    "---\n",
    "---\n",
    "\n",
    "###  Step 2: Importing CRIPT python package\n",
    "Once you have added the CRIPT python package to python, we can now imported into our notebook so we can access all the tools it contains.\n",
    "<span style=\"color:gray\">(We will import the CRIPT package as C, to minimize the amount of typing we will have to do.)</span>\n",
    "\n",
    "<u>Action:</u> Run the following cell.\n",
    "\n",
    "<u>Output:</u> You should see Import successful printed bellow the cell. If not, try restarting the python kernal: in the menu bar -> Kernel -> Restart Kernel. Then directly re-run this cell.\n",
    "If that doesn't work, then there was an error in the previous step. \n",
    "\n",
    "---"
   ]
  },
  {
   "cell_type": "code",
   "execution_count": null,
   "id": "abd24e09-8697-4c7a-bf2c-c38c45162f8a",
   "metadata": {},
   "outputs": [],
   "source": [
    "import cript as C\n",
    "print(\"Import successful!\")"
   ]
  },
  {
   "cell_type": "markdown",
   "id": "d7ca2712-8d00-4c76-86a7-2a748dca7937",
   "metadata": {},
   "source": [
    "---\n",
    "---\n",
    "\n",
    "### Step 3: Connecting to the database\n",
    "\n",
    "You will need the following to log into the database:\n",
    "* Username\n",
    "* Password\n",
    "* Project\n",
    "* database\n",
    "\n",
    "To get this information contact CRIPT Organization.\n",
    "\n",
    "<u>Action:</u> Fill in the following information with your information.\n",
    "\n",
    "<u>Output:</u> You should see \"Connection to database 'test' successful.\" and \"Not yet logged in.\". If not getting the result, double check that everything is written correctly, otherwise reach out to CRIPT Organization for help.\n",
    "\n",
    "---"
   ]
  },
  {
   "cell_type": "code",
   "execution_count": null,
   "id": "7b835758-d7e8-44de-b347-0e80b8c7cad6",
   "metadata": {},
   "outputs": [],
   "source": [
    "# Connect to database\n",
    "db_username = \"DW_cript\"\n",
    "db_password = \"YXMaoE1\"\n",
    "db_project = \"cript_testing\"\n",
    "db_database = \"test\"\n",
    "db = C.CriptDB(db_username, db_password, db_project, db_database)"
   ]
  },
  {
   "cell_type": "markdown",
   "id": "061114c4-8bbc-4ebd-a8b1-ce59ae7bfe62",
   "metadata": {},
   "source": [
    "---\n",
    "---\n",
    "\n",
    "## Creating your User node\n",
    "\n",
    "The first thing a new user needs to do to work on the CRIPT is to create a user node. Everything they do on the database will be tied to this node.\n",
    "\n",
    "<span style=\"color:SteelBlue\">  Everything in CRIPT is a `node` (`User`, `Group`, `Experiment`, `Material`, `Data`, ...). We use the word `node` as CRIPT can be thought of a graph with nodes holding a bunch of related information and lines showing the relationship between nodes. This idea of CRIPT being a graph will become more aparent you continue this tutorial. For now just remember that a node is just a group of related information or if you are an avid python user, a node is just a python class.</span> \n",
    "\n",
    "To create the `User node` your name and email are required. You can also provide additional infromation:\n",
    "* phone\n",
    "* website\n",
    "* twitter\n",
    "* orcid\n",
    "* organization\n",
    "* position\n",
    "\n",
    "<u>Action:</u>  Update the `User node` in the next cell with your information. Delete any rows you don't want to fill out (remeber that name and email are requried). \n",
    "\n",
    "<u>Output:</u> You should see a printout of the user data you just entered.\n",
    "\n",
    "---"
   ]
  },
  {
   "cell_type": "code",
   "execution_count": null,
   "id": "0975b398-9808-4452-b4df-5b73515aaa7e",
   "metadata": {},
   "outputs": [],
   "source": [
    "# Generate your User node\n",
    "user_node = C.User(\n",
    "        name=\"John Doe\",\n",
    "        email=\"johndoe17@cript.edu\",\n",
    "        orcid=\"0000-0000-0000-0001\",\n",
    "        organization=\"Mass. Institute of Technology\",\n",
    "        position=\"Postdoc\"\n",
    ")\n",
    "\n",
    "print(user_node)"
   ]
  },
  {
   "cell_type": "markdown",
   "id": "f0b18cb7-6e5e-4768-9a61-af1a3d8c7491",
   "metadata": {},
   "source": [
    "---\n",
    "We have just created the user node, however it has only been created locally, it has not been saved or added to the database yet. \n",
    "\n",
    "To add it to the database we will following commands: `db.save(user_node)` \n",
    "\n",
    "<span style=\"color:SteelBlue\">The `db.save()` will ask the database (abbreviated 'db') to save what's in the parenthesis; which we are giving it the user_node we just made. This command is one of the core commands when communicating with the database. When `db.save()` is run, validation codes will also be run. In particular for the User node, this will double check to see if the email has been used before. The database doesn't allow the same email to be used for more than one user node. </span> \n",
    "\n",
    "<u>Action:</u> Run the following cell.\n",
    "\n",
    "<u>Output:</u> You should get \"'name' was saved to the database.\" message. \n",
    "\n",
    "---"
   ]
  },
  {
   "cell_type": "code",
   "execution_count": null,
   "id": "d5773a21-aeec-45c0-b41e-23093bded86e",
   "metadata": {},
   "outputs": [],
   "source": [
    "# save user node to database\n",
    "db.save(user_node)\n",
    "print(user_node)"
   ]
  },
  {
   "cell_type": "markdown",
   "id": "9c39f38c-d499-4236-a533-6d24c3f46fc8",
   "metadata": {},
   "source": [
    "In the new output of the previous cell, you should now see the a \"uid\" has a 24 charaetor long id. This is your personal id for your user node. Also, during this step you were automatically logged into the CRIPT database which is required for all further CRIPT actions. Also, the created_date, and last_modified_date was automatically added.\n",
    "\n",
    "<span style=\"color:SteelBlue\">You can use this \"uid\" or your email address to login to the CRIPT database in the future (we'll go over this more later).</span> "
   ]
  },
  {
   "cell_type": "markdown",
   "id": "5e9df0c1-f3a7-4654-b694-4b82b7e9d266",
   "metadata": {},
   "source": [
    "---\n",
    "---\n",
    "\n",
    "## Creating or Joining Group nodes\n",
    "\n",
    "Next we will look at joining and creating `Group node`. \n",
    "\n",
    "<span style=\"color:SteelBlue\">The `Group node` is something like 'CRIPT Research team', 'Olsen Research Lab', or 'Massachusetts Institute of Technology'. Joining/Creating groups are important as experiments are tied to groups not users. The motivation behind this design choice was that a research lab/group tends to be long term with a continual turnover of scientists, and we didn't want a research groups data to be lost/moved as people move from one lab to another. </span> "
   ]
  },
  {
   "cell_type": "markdown",
   "id": "df846f70-de83-4780-8754-126fc5233db5",
   "metadata": {},
   "source": [
    "---\n",
    "\n",
    "### Creating a group\n",
    "\n",
    "Next we will look at creating a `Group node`. \n",
    "\n",
    "To see what it takes to make a `Group node` we can ask for help: `help(node)`. \n",
    "\n",
    "<span style=\"color:SteelBlue\"> This works for all CRIPT nodes. So its useful to remember this whenever you are making a new node. </span> \n",
    "\n",
    "<u>Action:</u> Run the following cell.\n",
    "\n",
    "<u>Output:</u> You will get a large output of text. Lets digest the important parts of this output:\n",
    "* The first line is: \"Group(name: str, email: str = None, website: str = None, c_owner:...\"\n",
    "    * This shows which parameters we can pass to the group node. (name, email, website, etc.)\n",
    "    * This also shows what Python type is accepted for each parameter. (str, list, float, int, etc.)\n",
    "    * We can also see what parameters are required by looking weather there is a defult parameter (= None) is present or not. \n",
    "        * name: str  ->  required parameter\n",
    "        * email: str = None  ->  not required parameter\n",
    "* The second part that is useful is where we see a list of \":param name\", \":param email\". This provides a short description for each of the parameters.  \n",
    "* There is alot more text here that is not imediately useful for a new user and can be ignored at the moment.     \n",
    "\n"
   ]
  },
  {
   "cell_type": "code",
   "execution_count": null,
   "id": "cc84edd8-11d7-4255-ba37-229d9f18675a",
   "metadata": {},
   "outputs": [],
   "source": [
    "help(C.Group.__init__)"
   ]
  },
  {
   "cell_type": "markdown",
   "id": "a0eb6051-b785-447f-bf72-207adfa3f336",
   "metadata": {},
   "source": [
    "---\n",
    "\n",
    "Now we can see what parameters that are accepted by the `Group node` we can make a new group. Here we will just make a tutorial node, where we will put all this tutorial expermients in.\n",
    "\n",
    "<u>Action:</u> Change the #### to your first name. Then, run the following cell.\n",
    "\n",
    "<u>Output:</u> The output will be small with just the name of the new group.\n",
    "\n",
    "---"
   ]
  },
  {
   "cell_type": "code",
   "execution_count": null,
   "id": "d84dcb48-2da1-46b1-b46d-09663a2bd737",
   "metadata": {},
   "outputs": [],
   "source": [
    "new_group = C.Group(\n",
    "    name=\"tutorial_john\"\n",
    ")\n",
    "print(new_group)"
   ]
  },
  {
   "cell_type": "markdown",
   "id": "707988aa-a9cc-4aac-8cc5-282eba38686e",
   "metadata": {},
   "source": [
    "---\n",
    "\n",
    "We can now save this `Group node` with the same command as used for the `User node`.\n",
    "\n",
    "<u>Action:</u> Run the following cell. The `db.save()` will not only save the node, but it will automatically make your `User node` the owner of the node. (Ownership of the node can be transfered later).\n",
    "\n",
    "<u>Output:</u> The output will let you know the group has been saved, then let you know that your user node has been updated. We will also print the two nodes. We can see the 'c_owner' is now filled out with your `User node` referance and we an see the 'c_group' is now filled out with the new `Group node`. \n",
    "\n",
    "<span style=\"color:SteelBlue\"> The 'c_' in front of 'owner' is to signify that this needs to be a CRIPT node referance. This means you need to provide either a 'uid' or a CRIPT.node to set this value. In some cases, like here it may be set automatically. We will cover this more in detail later. </span>\n",
    "\n",
    "---"
   ]
  },
  {
   "cell_type": "code",
   "execution_count": null,
   "id": "4f11df50-cf93-436d-a1db-f5a38fa784a0",
   "metadata": {},
   "outputs": [],
   "source": [
    "db.save(new_group)\n",
    "print(new_group)\n",
    "print(user_node)"
   ]
  },
  {
   "cell_type": "markdown",
   "id": "9f0655b4-6b85-4fc6-bf8b-33f696b25dae",
   "metadata": {},
   "source": [
    "---\n",
    "---\n",
    "\n",
    "### Joining an existing group\n",
    "\n",
    "We can also join an existing group. We will join the 'CRIPT_community'. To do this, we can first view all current groups with the `db.view()`.\n",
    "\n",
    "<span style=\"color:SteelBlue\">`db.view()` is another one of the core CRIPT function. Its used for viewing what's in the database based on a node. You want to pass a generic CRIPT node to the function. In the example below, we want to see `Group nodes`, so we will pass it 'cript.Group'.  </span>\n",
    "\n",
    "<u>Action:</u> Run the following cell.\n",
    "\n",
    "<u>Output:</u> You should see a list of group names and uids. Depending on when you are doing this, there may only be a few groups or many.\n",
    "    \n",
    "---"
   ]
  },
  {
   "cell_type": "code",
   "execution_count": null,
   "id": "049d5f3b-02c8-4dde-b1a6-9e957edd1cee",
   "metadata": {},
   "outputs": [],
   "source": [
    "# View Existing groups\n",
    "current_groups = db.view(C.Group, {\"scope\": \"all\"})"
   ]
  },
  {
   "cell_type": "markdown",
   "id": "3dd8617a-e133-4b43-98a5-ca28a9671612",
   "metadata": {},
   "source": [
    "<span style=\"color:SteelBlue\"> By defult, `db.view()` will show the first 50 nodes sorted by \"uid\". This may be sufficent for your search, but if its not we can preform many more specific searches. For our example, we will make a custom query. We will search all `Group nodes` specifically looking  for \"CRIPT\" in the parmaeter \"name\". This is a regular expression search. The regular expression search will look for 'CRIPT' to be in any part of a \"name\", middle, end, or begining of the string. This search needs to be written into a dictionary as follow below. We will cover more advance searching in another section.</span>\n",
    "\n",
    "<u>Action:</u> Run the following cell.\n",
    "\n",
    "<u>Output:</u> You should see a list of group names and uids. In this case it will only return `Group nodes` where 'CRIPT' is in the name parameter (parameter is called field for search). We are looking for the \"CRIPT_community\" group.\n"
   ]
  },
  {
   "cell_type": "code",
   "execution_count": null,
   "id": "4c011a52-6163-4afb-bc93-5bb7725a0e94",
   "metadata": {},
   "outputs": [],
   "source": [
    "query = {\n",
    "    \"scope\": \"all\",\n",
    "    \"field\": \"name\",\n",
    "    \"type\" : \"$regex\",\n",
    "    \"value\": \"CRIPT\"\n",
    "}\n",
    "current_groups = db.view(C.Group, query)"
   ]
  },
  {
   "cell_type": "markdown",
   "id": "c51b1b42-397b-49eb-bc7f-5819662ef253",
   "metadata": {},
   "source": [
    "---\n",
    "\n",
    "You should see 'CRIPT_community' in the list. Now that we have found the group we want to join, we can join it by passing it into our `User node`, specifically add it to the 'c_group' parameter. This is done easily since we had our last view be stored in the `current_groups` variable. So we can just pass `current_groups`, with the select the number it was in the list, into `user.node.c_group`. \n",
    "\n",
    "<u>Action:</u> Change the number in the brackets to match the number in the result above that matchs \"CRIPT_community\". Then run the following cell.\n",
    "\n",
    "<u>Output:</u> We will print out your `User node` again, and we can see that the group has been added to 'c_group'. \n"
   ]
  },
  {
   "cell_type": "code",
   "execution_count": null,
   "id": "770b5053-26aa-48bd-91cb-3301c601d1c2",
   "metadata": {},
   "outputs": [],
   "source": [
    "user_node.c_group = current_groups[0]\n",
    "db.update(user_node)\n",
    "print(user_node)"
   ]
  },
  {
   "cell_type": "markdown",
   "id": "6ea1419b-3156-44d8-baeb-aa19114f25fe",
   "metadata": {},
   "source": [
    "---\n",
    "---\n",
    "\n",
    "## Key Takeaways\n",
    "\n",
    "* You have setup the CRIPT API, confirm you can connect to the database.\n",
    "* You have created your user node that you will use for all future project on CRIPT.\n",
    "* You learned the basics of creating nodes and referancing one node from another.\n",
    "* Learned the key database object: `C.CriptDB()`, `db.save()`, `db.view()`, `db.update()`\n"
   ]
  },
  {
   "cell_type": "markdown",
   "id": "9852caa7-23a8-4689-903f-ca25015ffe0e",
   "metadata": {},
   "source": [
    "---\n",
    "---\n",
    "\n",
    "## What's next?\n",
    "\n",
    "Now that we have created your `user node`, and have created or joined a group we can look at how we organize experiments.\n",
    "To do this open \"First_Experiment\" next."
   ]
  },
  {
   "cell_type": "code",
   "execution_count": null,
   "id": "583602ee-8e86-4f94-82cc-13d2fa2111c8",
   "metadata": {},
   "outputs": [],
   "source": []
  }
 ],
 "metadata": {
  "kernelspec": {
   "display_name": "Python 3",
   "language": "python",
   "name": "python3"
  },
  "language_info": {
   "codemirror_mode": {
    "name": "ipython",
    "version": 3
   },
   "file_extension": ".py",
   "mimetype": "text/x-python",
   "name": "python",
   "nbconvert_exporter": "python",
   "pygments_lexer": "ipython3",
   "version": "3.9.5"
  },
  "toc-autonumbering": false
 },
 "nbformat": 4,
 "nbformat_minor": 5
}
