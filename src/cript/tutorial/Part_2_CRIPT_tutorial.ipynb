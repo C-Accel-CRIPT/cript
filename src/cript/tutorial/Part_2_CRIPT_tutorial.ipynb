{
 "cells": [
  {
   "cell_type": "markdown",
   "id": "810e06ce-54a8-4d89-a181-d8a73b81cb42",
   "metadata": {},
   "source": [
    "# Part 2: Creating your first Experiment in CRIPT \n",
    "---\n",
    "\n",
    "In this notebook we will create document our first experiment, and all the associated data. The following example is the anionic polymerization of styrene with secBuLi in a mixture of THF and toluene. The reaction is then quenched with butanol and precipitated into methanol to obtain the final product, polystyrene.\n",
    "\n",
    "<p style=\"text-align:center;\"><img src=\"../Jupyter_notebook/supporting_files/pics/P2_polystyrene_synthesis.svg\" alt=\"Polystyrene_synthesis\" width=\"600\" style=\"background-color:white;\" />\n",
    "\n"
   ]
  },
  {
   "cell_type": "markdown",
   "id": "7320597d-e481-494b-867c-dbe4d99c8df7",
   "metadata": {},
   "source": [
    "---\n",
    "\n",
    "We will start with the basics: importing 'CRIPT module', and connecting to the CRIPT database.\n",
    "\n",
    "<u>Action:</u> Replace 'user = ###@###.##' with the email address you used for your `User node` or 'user uid'. Then run the cell. <span style=\"color:gray\">(You can run a cell by either clicking on it and hitting the 'play/run' button in the toolbar or click the cell and hit \"shift\" + \"enter\".)</span>\n",
    "\n",
    "<u>Output:</u> You should see \"Import sucessful!\", \"Connection to database '####' successful.\", \"Login as \"###\" was sucessfully.\" "
   ]
  },
  {
   "cell_type": "code",
   "execution_count": 1,
   "id": "b336f3cc-7ad1-43a1-bad2-8227e9ffc740",
   "metadata": {},
   "outputs": [
    {
     "name": "stdout",
     "output_type": "stream",
     "text": [
      "Import successful!\n",
      "Connection to database 'test' successful.\n",
      "Login as 'John Doe' was successful.\n"
     ]
    }
   ],
   "source": [
    "import cript as C\n",
    "print(\"Import successful!\")\n",
    "\n",
    "# Connect to database\n",
    "db_username = \"DW_cript\"\n",
    "db_password = \"YXMaoE1\"\n",
    "db_project = \"cript_testing\"\n",
    "db_database = \"test\"\n",
    "user = \"johndoe13@cript.edu\"  # Put your email or uid here\n",
    "db = C.CriptDB(db_username, db_password, db_project, db_database, user)"
   ]
  },
  {
   "cell_type": "markdown",
   "id": "c4810d28-6f50-4fd1-aeb3-d7f1bac19600",
   "metadata": {},
   "source": [
    "\n",
    "<span style=\"color:SteelBlue\"> This previous block of code is the standard code you should type first for all future projects. </span> \n",
    "\n",
    "---"
   ]
  },
  {
   "cell_type": "markdown",
   "id": "675dd4e2-7c97-4be7-935b-203ffc06d274",
   "metadata": {},
   "source": [
    "## Collection and Experiment Nodes\n",
    "\n",
    "Before diving directly into this example we look at creating two organizaiton CRIPT nodes: `C.Collection()` and `C.Experiment()`.\n",
    "\n",
    "<span style=\"color:SteelBlue\">The `Experiment node` is the main organization node that will hold the data assoisated with an experiment. With that said, providing a formal defination of an experiment is challangeing.  </span> \n",
    "\n",
    "We will start by creating a `collection node()` in which we will associate with our \"tutorial\" group we create in part.\n",
    "\n",
    "\n",
    "<u>Action:</u> Run the following cell.\n",
    "\n",
    "<u>Output:</u> Print out of node. \n",
    "\n",
    "---"
   ]
  },
  {
   "cell_type": "code",
   "execution_count": 2,
   "id": "40df4cbb-db49-4bda-aeb4-72cc355788b3",
   "metadata": {},
   "outputs": [
    {
     "name": "stdout",
     "output_type": "stream",
     "text": [
      "{\n",
      "  \"class_\": \"Collection\",\n",
      "  \"model_version\": \"0.0.1\",\n",
      "  \"name\": \"Anionic Polymerizations\"\n",
      "}\n"
     ]
    }
   ],
   "source": [
    "collection = C.Collection(\"Anionic Polymerizations\")\n",
    "print(collection)"
   ]
  },
  {
   "cell_type": "markdown",
   "id": "393667d6-9217-46e0-a701-b405a2867596",
   "metadata": {},
   "source": [
    "Now that we create the collection we will want to save it and pick a group to own it. So lets view what groups we are apart of again. To do that, we can use the `db.view()` function again and pass it the generic CRIPT `Group node`. This will return just the groups you are apart of. Which at this point should just be two.\n",
    "\n",
    "<u>Action:</u> Run the following cell.\n",
    "\n",
    "<u>Output:</u> You should see two groups in the list. \"tutorial_###\" which is the node you created in part 1 and \"CRIPT_community\" the node you just joined in part 1.\n"
   ]
  },
  {
   "cell_type": "code",
   "execution_count": 3,
   "id": "560a2c78-874b-4e57-ac69-34a15cbe65ec",
   "metadata": {},
   "outputs": [
    {
     "name": "stdout",
     "output_type": "stream",
     "text": [
      "\n",
      "number  name                          uid                           \n",
      "------------------------------------------------------------\n",
      "0       tutorial_john                 610b220ee1756ffe3cc73495      \n",
      "1       CRIPT_community               610a9f05ad3873e83363051e      \n",
      "\n"
     ]
    }
   ],
   "source": [
    "groups = db.view(C.Group)"
   ]
  },
  {
   "cell_type": "markdown",
   "id": "f0b6d338-beb6-4a58-9902-e6f531a49b30",
   "metadata": {},
   "source": [
    "We will put this collection into \"tutorial_####\". To do this, we just need to save the node and pass it the group we want to save it to with it.\n",
    "\n",
    "<span style=\"color:SteelBlue\">In the background it will save the collection and update the group in the database. </span> \n",
    "\n",
    "<u>Action:</u> Change the number in the brackets to select the \"tutorial_####\" group. Then run the following cell.\n",
    "\n",
    "<u>Output:</u> \"Save of 'Anionic Polymerizations' was successful.\" and \"Update of 'tutorial_john' successful!\". We will also see the \"uid\" of the collection node.\n"
   ]
  },
  {
   "cell_type": "code",
   "execution_count": 4,
   "id": "f647dae3-5a1b-4599-a418-529510031aac",
   "metadata": {},
   "outputs": [
    {
     "name": "stdout",
     "output_type": "stream",
     "text": [
      "Save of 'Anionic Polymerizations' was successful.\n",
      "Update of 'tutorial_john' successful!\n"
     ]
    },
    {
     "data": {
      "text/plain": [
       "'6112dcee356fd5289aa3d75c'"
      ]
     },
     "execution_count": 4,
     "metadata": {},
     "output_type": "execute_result"
    }
   ],
   "source": [
    "db.save(collection, groups[0])"
   ]
  },
  {
   "cell_type": "markdown",
   "id": "7e4c71c5-5ecc-415a-86ee-aa171f35a9a6",
   "metadata": {},
   "source": [
    "---\n",
    "\n",
    "Now we have a collection made, let make our `Experiment node`.\n",
    "\n",
    "<u>Action:</u> Run the following cell.\n",
    "\n",
    "<u>Output:</u> Print out of the `Experiment node`.\n"
   ]
  },
  {
   "cell_type": "code",
   "execution_count": 5,
   "id": "0d949e9c-c7a7-45e1-90df-fe024a95b3c6",
   "metadata": {},
   "outputs": [
    {
     "name": "stdout",
     "output_type": "stream",
     "text": [
      "{\n",
      "  \"class_\": \"Experiment\",\n",
      "  \"model_version\": \"0.0.1\",\n",
      "  \"name\": \"Anionic Polymerization of Styrene with SecBuLi\"\n",
      "}\n"
     ]
    }
   ],
   "source": [
    "expt = C.Experiment(\"Anionic Polymerization of Styrene with SecBuLi\")\n",
    "print(expt)"
   ]
  },
  {
   "cell_type": "markdown",
   "id": "0774a4f9-b59a-472b-ac78-66bd6aea822d",
   "metadata": {},
   "source": [
    "We ca\n",
    "\n",
    "<u>Action:</u> Run the following cell.\n",
    "\n",
    "<u>Output:</u> Print out of the `collection node`.\n"
   ]
  },
  {
   "cell_type": "code",
   "execution_count": 7,
   "id": "630896b5-6090-43d2-812c-585e46aabe80",
   "metadata": {},
   "outputs": [
    {
     "name": "stdout",
     "output_type": "stream",
     "text": [
      "Save of 'Anionic Polymerization of Styrene with SecBuLi' was successful.\n"
     ]
    },
    {
     "data": {
      "text/plain": [
       "'6112dcf9356fd5289aa3d75d'"
      ]
     },
     "execution_count": 7,
     "metadata": {},
     "output_type": "execute_result"
    }
   ],
   "source": [
    "db.save(expt, collection)\n",
    "print(collection)"
   ]
  },
  {
   "cell_type": "markdown",
   "id": "96df6c48-7ad4-4b04-9a56-6759115d2ee6",
   "metadata": {},
   "source": [
    "---\n",
    "---\n",
    "\n",
    "## Materal Node\n",
    "\n",
    "### Creating a Material Node\n",
    "\n",
    "\n"
   ]
  },
  {
   "cell_type": "code",
   "execution_count": 12,
   "id": "aa96457b-4d67-4093-bb49-617d21e1349b",
   "metadata": {},
   "outputs": [
    {
     "name": "stdout",
     "output_type": "stream",
     "text": [
      "Help on function __init__ in module cript.material:\n",
      "\n",
      "__init__(self, identifier: list, name: str = None, properties: list = None, keywords: list = None, source: str = None, lot_number: str = None, storage: list = None, hazard: list = None, notes: str = None, **kwargs)\n",
      "    :param name: The name of the user.\n",
      "    :param identifier:\n",
      "    \n",
      "    :param properties:\n",
      "    :param keywords:\n",
      "    :param source:\n",
      "    :param lot_number:\n",
      "    :param storage:\n",
      "    :param hazard:\n",
      "    \n",
      "    :param notes: Any miscellaneous notes related to the user.\n",
      "    :param _class: class of node.\n",
      "    :param uid: The unique ID of the material.\n",
      "    :param model_version: Version of CRIPT data model.\n",
      "    :param version_control: Link to version control node.\n",
      "    :param last_modified_date: Last date the node was modified.\n",
      "    :param created_date: Date it was created.\n",
      "\n"
     ]
    }
   ],
   "source": [
    "help(C.Material.__init__)"
   ]
  },
  {
   "cell_type": "markdown",
   "id": "9abe293b-0a67-4f42-b2c9-45abf3cec6f9",
   "metadata": {},
   "source": [
    "we see that the only required paramter is 'identifier'. Looking at the :param we see it is c_identifier meaning it is a CRIPT object."
   ]
  },
  {
   "cell_type": "code",
   "execution_count": 13,
   "id": "d8dd71e5-4a07-4cf1-af73-0b306e512ab0",
   "metadata": {},
   "outputs": [
    {
     "name": "stdout",
     "output_type": "stream",
     "text": [
      "Help on function __init__ in module cript.material:\n",
      "\n",
      "__init__(self, preferred_name: str, names: list = None, cas: str = None, bigsmiles: str = None, smiles: str = None, chem_formula: str = None, chem_repeat: str = None, pubchem_cid: str = None, inchi: str = None, inchi_key: str = None)\n",
      "    :param preferred_name: preferred name\n",
      "    :param names: additional names, abbreviations, short hands for the material\n",
      "    :param cas: CAS number\n",
      "    :param bigsmiles: bigSMILES Line Notation\n",
      "    :param smiles: simplified molecular-input line-entry system\n",
      "    :param chem_formula: chemical formula\n",
      "    :param chem_repeat: chemical formula of repeating unit\n",
      "    :param pubchem_cid: PubChem CID\n",
      "    :param inchi: IUPAC International Chemical Identifier\n",
      "    :param inchi_key: a hashed version of the full InChI\n",
      "    \n",
      "    :param mat_id:\n",
      "    :param main_uid:\n",
      "\n"
     ]
    }
   ],
   "source": [
    "help(C.Iden.__init__)"
   ]
  },
  {
   "cell_type": "markdown",
   "id": "4a2117be-9bfb-4921-b31c-4894dafb4cae",
   "metadata": {},
   "source": [
    "The minimuim requirement is the preferred_name, but its best to put as much as possible."
   ]
  },
  {
   "cell_type": "code",
   "execution_count": 17,
   "id": "85683cd7-8394-49fe-aa61-7994330c2784",
   "metadata": {},
   "outputs": [
    {
     "name": "stdout",
     "output_type": "stream",
     "text": [
      "<cript.material.Identifiers object at 0x000001E90EA7F5E0>\n"
     ]
    }
   ],
   "source": [
    "iden = C.Iden(\n",
    "    preferred_name=\"styrene\",\n",
    "    names=[\"vinylbenzene\", \"phenylethylene\", \"ethenylbenzene\"],\n",
    "    chem_formula=\"C8H8\",\n",
    "    smiles=\"C=Cc1ccccc1\",\n",
    "    cas=\"100-42-5\",\n",
    "    pubchem_cid=\"7501\",\n",
    "    inchi_key=\"PPBRXRYQALVLMV-UHFFFAOYSA-N\"\n",
    ")\n",
    "\n",
    "print(iden)"
   ]
  },
  {
   "cell_type": "code",
   "execution_count": null,
   "id": "308e9647-f6ba-453b-894d-779196b49c03",
   "metadata": {},
   "outputs": [],
   "source": []
  },
  {
   "cell_type": "code",
   "execution_count": null,
   "id": "7f1634df-fd2a-4a66-a196-c781fd13d099",
   "metadata": {},
   "outputs": [],
   "source": [
    "mat_styrene = C.Material(\n",
    "    identifier=iden,\n",
    "    keywords=[\"styrene\"],\n",
    "    storage=[\n",
    "        C.Cond(key=\"temp\", value=-20, unit=C.Unit(\"degC\")),\n",
    "        C.Cond(key=\"atm\", value=\"argon\")\n",
    "    ]\n",
    "    )\n",
    "print(mat_styrene)"
   ]
  },
  {
   "cell_type": "code",
   "execution_count": null,
   "id": "6e8e25c6-0596-4292-89af-03407543d99f",
   "metadata": {},
   "outputs": [],
   "source": []
  },
  {
   "cell_type": "code",
   "execution_count": 19,
   "id": "eec50a92-dbe1-4c6c-b078-37fe72c2986f",
   "metadata": {},
   "outputs": [
    {
     "name": "stdout",
     "output_type": "stream",
     "text": [
      "Help on function __init__ in module cript.base:\n",
      "\n",
      "__init__(self, key: str = None, value: Union[float, str, int] = None, unit: pint.unit.Unit = None, uncer: Union[float, str] = None, data_uid=None)\n",
      "    :param key: time, temp, pres, solvent, standard, relative, atmosphere\n",
      "    :param unit:\n",
      "\n"
     ]
    }
   ],
   "source": [
    "help(C.Cond.__init__)"
   ]
  },
  {
   "cell_type": "code",
   "execution_count": null,
   "id": "d7199e0a-5282-4bc2-aebc-fcdee164df2c",
   "metadata": {},
   "outputs": [],
   "source": []
  },
  {
   "cell_type": "code",
   "execution_count": 20,
   "id": "751968a2-6592-4b5c-82c4-2812fe412ee1",
   "metadata": {},
   "outputs": [
    {
     "name": "stdout",
     "output_type": "stream",
     "text": [
      "Help on function __init__ in module cript.base:\n",
      "\n",
      "__init__(self, key: str, value: Union[float, int, str], unit: pint.unit.Unit = None, uncer: Union[float, int, str] = None, method: str = None, mat_id: int = None, component: str = None, data_uid: str = None, conditions: list = None)\n",
      "    :param mat_id:\n",
      "    :param key:\n",
      "    :param value:\n",
      "    :param uncer:\n",
      "    :param unit:\n",
      "    :param component:\n",
      "    :param method:\n",
      "    :param data_uid:\n",
      "    :param conditions:\n",
      "\n"
     ]
    }
   ],
   "source": [
    "help(C.Prop.__init__)"
   ]
  },
  {
   "cell_type": "code",
   "execution_count": null,
   "id": "13e0eb81-f255-45d3-a9bd-d00227e9b5a4",
   "metadata": {},
   "outputs": [],
   "source": []
  },
  {
   "cell_type": "code",
   "execution_count": null,
   "id": "441f3b91-fe59-47d4-8411-e294c593ab8e",
   "metadata": {},
   "outputs": [],
   "source": [
    "# add properties\n",
    "prop = [C.Prop(mat_id=0, key=\"phase\", value=\"liquid\"),\n",
    "        C.Prop(mat_id=0, key=\"color\", value=\"colorless\"),\n",
    "        C.Prop(mat_id=0, key=\"mw\", value=104.15, unit=C.Unit(\"g/mol\"), method=\"prescribed\"),\n",
    "        C.Prop(mat_id=0, key=\"density\", value=0.906, unit=C.Unit(\"g/ml\"),\n",
    "                   conditions=[C.Cond(key=\"temp\", value=25, unit=C.Unit(\"degC\"))]\n",
    "                   ),\n",
    "        C.Prop(mat_id=0, key=\"bp\", value=145, unit=C.Unit(\"degC\"),\n",
    "                   conditions=[C.Cond(key=\"pressure\", value=1, unit=C.Unit(\"atm\"))]\n",
    "                   ),\n",
    "        C.Prop(mat_id=0, key=\"mp\", value=-30, unit=C.Unit(\"degC\"),\n",
    "                   conditions=[C.Cond(key=\"pressure\", value=1, unit=C.Unit(\"bar\"))]\n",
    "                   ),\n",
    "        C.Prop(mat_id=0, key=\"solubility\", value=0.3, unit=C.Unit(\"g/mol\"),\n",
    "                   conditions=[\n",
    "                             C.Cond(key=\"temp\", value=25, unit=C.Unit(\"degC\")),\n",
    "                             C.Cond(key=\"solvent\", value=\"water\", unit=C.Unit(\"bar\"))\n",
    "                         ]\n",
    "                   ),\n",
    "        ]\n",
    "\n",
    "node.properties = prop"
   ]
  },
  {
   "cell_type": "code",
   "execution_count": null,
   "id": "d8680dcf-8052-4c80-ba26-796591767595",
   "metadata": {},
   "outputs": [],
   "source": []
  },
  {
   "cell_type": "code",
   "execution_count": null,
   "id": "b840b507-c14d-4ab7-a9db-b71d17774b27",
   "metadata": {},
   "outputs": [],
   "source": [
    "db.save(mat_styrene, expt)\n",
    "print(mat_styrene)"
   ]
  },
  {
   "cell_type": "markdown",
   "id": "7b9480d4-1534-467d-9566-79e843a376ef",
   "metadata": {},
   "source": [
    "---\n",
    "\n",
    "### Adding a Existing Material Node\n"
   ]
  },
  {
   "cell_type": "code",
   "execution_count": null,
   "id": "2285217e-8957-4f5e-9e6c-ac2a1ab85e98",
   "metadata": {},
   "outputs": [],
   "source": [
    "query = {\n",
    "    \"field\": \"identifier.name\",\n",
    "    \"type\" : \"$regex\",\n",
    "    \"value\": \"toluene\"\n",
    "}\n",
    "tol_query = db.view(cript.Material, query)\n",
    "query = {\n",
    "    \"field\": \"identifier.name\",\n",
    "    \"type\" : \"$regex\",\n",
    "    \"value\": \"thf\"\n",
    "}\n",
    "thf_query = db.view(cript.Material, query)"
   ]
  },
  {
   "cell_type": "code",
   "execution_count": null,
   "id": "a6640561-aca5-48ba-8d39-00cdf22e61ff",
   "metadata": {},
   "outputs": [],
   "source": []
  },
  {
   "cell_type": "code",
   "execution_count": null,
   "id": "d7a39746-fe85-45c2-b06d-ee26cf1e106d",
   "metadata": {},
   "outputs": [],
   "source": [
    "tol_query[0]"
   ]
  },
  {
   "cell_type": "code",
   "execution_count": null,
   "id": "010ca65a-07e5-41eb-b0ee-474c44d8258a",
   "metadata": {},
   "outputs": [],
   "source": []
  },
  {
   "cell_type": "code",
   "execution_count": null,
   "id": "de878775-eeba-478f-b84b-6a11e7e51636",
   "metadata": {},
   "outputs": [],
   "source": [
    "expt.c_material = [tol_query[0], thf_query[0]]"
   ]
  },
  {
   "cell_type": "markdown",
   "id": "ee98b943-d062-4b26-bcfb-3ef3874680d1",
   "metadata": {},
   "source": []
  },
  {
   "cell_type": "markdown",
   "id": "9c7cd622-14b1-4eeb-a998-585b37d363c4",
   "metadata": {},
   "source": [
    "---\n",
    "\n",
    "### Copying an existing Material Node"
   ]
  },
  {
   "cell_type": "code",
   "execution_count": null,
   "id": "99cb3b13-95e0-4b7a-971a-4f1647d22c3f",
   "metadata": {},
   "outputs": [],
   "source": [
    "query = {\n",
    "    \"field\": \"identifier.name\",\n",
    "    \"type\" : \"$regex\",\n",
    "    \"value\": \"BuLi\"\n",
    "}\n",
    "BuLi_query = db.view(cript.Material, query)"
   ]
  },
  {
   "cell_type": "code",
   "execution_count": null,
   "id": "e9545487-29ae-40de-9cd9-818eb8816188",
   "metadata": {},
   "outputs": [],
   "source": []
  },
  {
   "cell_type": "code",
   "execution_count": null,
   "id": "711d75b6-db25-4b04-94bd-072091bdc423",
   "metadata": {},
   "outputs": [],
   "source": [
    "BuLi_query[0]"
   ]
  },
  {
   "cell_type": "code",
   "execution_count": null,
   "id": "7b006aa7-f332-4aa7-abf6-3f227021ab55",
   "metadata": {},
   "outputs": [],
   "source": []
  },
  {
   "cell_type": "code",
   "execution_count": null,
   "id": "f6c97983-76f3-496f-a805-b95e4ef36254",
   "metadata": {},
   "outputs": [],
   "source": [
    "BuLi_node = cript.copy(BuLi_query[0])\n",
    "BuLi_node.properties[\"conc\"] = \"1.2\""
   ]
  },
  {
   "cell_type": "code",
   "execution_count": null,
   "id": "ef9f0dcd-3b3c-4134-af05-6c683ce98db7",
   "metadata": {},
   "outputs": [],
   "source": [
    "db.save(BuLi_node, expt)"
   ]
  },
  {
   "cell_type": "code",
   "execution_count": null,
   "id": "aa42b6fa-d0a0-4d54-815e-c6991862fa68",
   "metadata": {},
   "outputs": [],
   "source": []
  },
  {
   "cell_type": "code",
   "execution_count": null,
   "id": "0878494e-44c6-49d6-9664-b5f2b69a7970",
   "metadata": {},
   "outputs": [],
   "source": [
    "globals()"
   ]
  },
  {
   "cell_type": "code",
   "execution_count": null,
   "id": "a7429094-a9ee-428e-8236-0f3deff9614d",
   "metadata": {},
   "outputs": [],
   "source": [
    "import cript"
   ]
  },
  {
   "cell_type": "code",
   "execution_count": null,
   "id": "10ca9c70-1f3b-404d-8324-e1a91355f5ac",
   "metadata": {},
   "outputs": [],
   "source": [
    "db.update(expt)\n"
   ]
  },
  {
   "cell_type": "markdown",
   "id": "25606058-c08d-4141-9fef-2df95cf63293",
   "metadata": {},
   "source": [
    "---\n",
    "---\n",
    "\n",
    "## Key Takeaways\n",
    "\n",
    "* You have "
   ]
  },
  {
   "cell_type": "markdown",
   "id": "435c93f6-b185-456a-9698-a6524f9c2d98",
   "metadata": {},
   "source": [
    "---\n",
    "---\n",
    "\n",
    "### What's next?\n"
   ]
  },
  {
   "cell_type": "code",
   "execution_count": null,
   "id": "36860f7f-1a79-4418-89ed-25ef337b9aee",
   "metadata": {},
   "outputs": [],
   "source": []
  }
 ],
 "metadata": {
  "kernelspec": {
   "display_name": "Python 3",
   "language": "python",
   "name": "python3"
  },
  "language_info": {
   "codemirror_mode": {
    "name": "ipython",
    "version": 3
   },
   "file_extension": ".py",
   "mimetype": "text/x-python",
   "name": "python",
   "nbconvert_exporter": "python",
   "pygments_lexer": "ipython3",
   "version": "3.9.5"
  }
 },
 "nbformat": 4,
 "nbformat_minor": 5
}
